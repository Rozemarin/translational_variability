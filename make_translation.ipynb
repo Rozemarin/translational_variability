{
 "cells": [
  {
   "cell_type": "code",
   "execution_count": 1,
   "metadata": {
    "ExecuteTime": {
     "end_time": "2023-05-03T11:21:50.722104Z",
     "start_time": "2023-05-03T11:21:42.025969Z"
    },
    "collapsed": true
   },
   "outputs": [],
   "source": [
    "from tqdm import tqdm"
   ]
  },
  {
   "cell_type": "code",
   "execution_count": 2,
   "metadata": {
    "ExecuteTime": {
     "end_time": "2023-05-03T11:21:55.013252Z",
     "start_time": "2023-05-03T11:21:50.730917Z"
    },
    "collapsed": false
   },
   "outputs": [],
   "source": [
    "from easynmt import EasyNMT\n",
    "model = EasyNMT('opus-mt')"
   ]
  },
  {
   "cell_type": "code",
   "execution_count": 3,
   "metadata": {
    "ExecuteTime": {
     "end_time": "2023-05-03T11:22:50.043321Z",
     "start_time": "2023-05-03T11:21:55.013252Z"
    },
    "collapsed": false
   },
   "outputs": [],
   "source": [
    "with open(\"subtitles_raw/en_raw_0-900.txt\", \"rt\", encoding=\"utf-8\") as f:\n",
    "    en_all = [line.strip() for line in f]\n",
    "\n",
    "with open(\"subtitles_raw/ru_raw_0-900.txt\", \"rt\", encoding=\"utf-8\") as f:\n",
    "    ru_all = [line.strip() for line in f]"
   ]
  },
  {
   "cell_type": "code",
   "execution_count": 4,
   "metadata": {},
   "outputs": [
    {
     "data": {
      "text/plain": [
       "900000"
      ]
     },
     "execution_count": 4,
     "metadata": {},
     "output_type": "execute_result"
    }
   ],
   "source": [
    "filename_translated_all = \"corpora/subtitles/translations/opus10_whole.txt\"\n",
    "with open(filename_translated_all, \"rt\", encoding=\"utf-8\") as f:\n",
    "    translated_all = [line.rstrip() for line in f.readlines()]\n",
    "len(translated_all)"
   ]
  },
  {
   "cell_type": "code",
   "execution_count": 17,
   "metadata": {
    "ExecuteTime": {
     "end_time": "2023-05-03T00:59:50.823596Z",
     "start_time": "2023-05-02T23:26:29.895174Z"
    },
    "collapsed": false
   },
   "outputs": [
    {
     "name": "stderr",
     "output_type": "stream",
     "text": [
      "100%|██████████| 300/300 [00:00<00:00, 1013116.91it/s]\n",
      "100%|██████████| 300/300 [00:00<?, ?it/s]\n",
      "100%|██████████| 300/300 [00:00<00:00, 296347.43it/s]\n",
      "100%|██████████| 300/300 [00:00<00:00, 299023.57it/s]\n",
      "100%|██████████| 300/300 [00:00<00:00, 304376.20it/s]\n",
      "100%|██████████| 300/300 [00:00<?, ?it/s]\n",
      "100%|██████████| 300/300 [01:02<00:00,  4.78it/s] \n",
      "100%|██████████| 300/300 [04:05<00:00,  1.22it/s]\n",
      "100%|██████████| 300/300 [04:37<00:00,  1.08it/s]\n",
      "100%|██████████| 300/300 [07:26<00:00,  1.49s/it]\n",
      "100%|██████████| 300/300 [05:05<00:00,  1.02s/it]\n",
      "100%|██████████| 300/300 [05:23<00:00,  1.08s/it]\n",
      "100%|██████████| 300/300 [05:10<00:00,  1.04s/it]\n",
      "100%|██████████| 300/300 [06:49<00:00,  1.36s/it]\n",
      "100%|██████████| 300/300 [07:05<00:00,  1.42s/it]\n",
      "100%|██████████| 300/300 [06:38<00:00,  1.33s/it]\n",
      "100%|██████████| 300/300 [04:54<00:00,  1.02it/s]\n",
      "100%|██████████| 300/300 [05:42<00:00,  1.14s/it]\n",
      "100%|██████████| 300/300 [06:06<00:00,  1.22s/it]\n",
      "100%|██████████| 300/300 [06:27<00:00,  1.29s/it]\n",
      "100%|██████████| 300/300 [07:18<00:00,  1.46s/it]\n",
      "100%|██████████| 300/300 [05:41<00:00,  1.14s/it]\n",
      "100%|██████████| 300/300 [06:06<00:00,  1.22s/it]\n",
      "100%|██████████| 300/300 [04:30<00:00,  1.11it/s]\n",
      "100%|██████████| 300/300 [05:07<00:00,  1.02s/it]\n",
      "100%|██████████| 300/300 [05:29<00:00,  1.10s/it]\n",
      "100%|██████████| 300/300 [04:54<00:00,  1.02it/s]\n",
      "100%|██████████| 300/300 [05:21<00:00,  1.07s/it]\n",
      "100%|██████████| 300/300 [06:47<00:00,  1.36s/it]\n",
      "100%|██████████| 300/300 [06:19<00:00,  1.27s/it]\n",
      "100%|██████████| 300/300 [08:15<00:00,  1.65s/it]\n",
      "100%|██████████| 300/300 [06:54<00:00,  1.38s/it]\n",
      "100%|██████████| 300/300 [07:26<00:00,  1.49s/it]\n",
      "100%|██████████| 300/300 [07:18<00:00,  1.46s/it]\n",
      "100%|██████████| 300/300 [07:41<00:00,  1.54s/it]\n",
      "100%|██████████| 300/300 [06:04<00:00,  1.22s/it]\n",
      "100%|██████████| 300/300 [06:39<00:00,  1.33s/it]\n",
      "100%|██████████| 300/300 [05:36<00:00,  1.12s/it]\n",
      "100%|██████████| 300/300 [04:52<00:00,  1.03it/s]\n",
      "100%|██████████| 300/300 [05:58<00:00,  1.19s/it]\n",
      "100%|██████████| 300/300 [05:52<00:00,  1.18s/it]\n",
      "100%|██████████| 300/300 [08:18<00:00,  1.66s/it] \n",
      "100%|██████████| 300/300 [06:33<00:00,  1.31s/it]\n",
      "100%|██████████| 300/300 [06:08<00:00,  1.23s/it]\n",
      "100%|██████████| 300/300 [07:56<00:00,  1.59s/it]\n",
      "100%|██████████| 300/300 [06:07<00:00,  1.23s/it]\n",
      "100%|██████████| 300/300 [12:23<00:00,  2.48s/it]\n",
      "100%|██████████| 300/300 [14:17<00:00,  2.86s/it]\n",
      "100%|██████████| 300/300 [12:39<00:00,  2.53s/it]\n",
      "100%|██████████| 300/300 [08:00<00:00,  1.60s/it]\n",
      "100%|██████████| 300/300 [06:01<00:00,  1.20s/it]\n",
      "100%|██████████| 300/300 [08:54<00:00,  1.78s/it]\n",
      "100%|██████████| 300/300 [04:54<00:00,  1.02it/s]\n",
      "100%|██████████| 300/300 [05:37<00:00,  1.13s/it]\n",
      "100%|██████████| 300/300 [04:31<00:00,  1.11it/s]\n",
      "100%|██████████| 300/300 [04:12<00:00,  1.19it/s]\n",
      "100%|██████████| 300/300 [04:50<00:00,  1.03it/s]\n"
     ]
    }
   ],
   "source": [
    "chunk_size = 300\n",
    "latest_chunk = 683000\n",
    "\n",
    "for chunk_start in range(latest_chunk, 700000, chunk_size):\n",
    "\n",
    "    for i in tqdm(range(chunk_start, min(chunk_start + chunk_size, len(ru_all)))):\n",
    "        if translated_all[i] != \"\":\n",
    "            continue\n",
    "        sentence = ru_all[i]\n",
    "        translation = model.translate(sentence, source_lang='ru', target_lang='en', beam_size=10, max_length=200)\n",
    "        translated_all[i] = translation\n",
    "\n",
    "    with open(filename_translated_all, 'w', encoding=\"utf-8\") as f:\n",
    "        for line in translated_all:\n",
    "            f.write(line)\n",
    "            f.write('\\n')"
   ]
  }
 ],
 "metadata": {
  "kernelspec": {
   "display_name": "Python 3",
   "language": "python",
   "name": "python3"
  },
  "language_info": {
   "codemirror_mode": {
    "name": "ipython",
    "version": 3
   },
   "file_extension": ".py",
   "mimetype": "text/x-python",
   "name": "python",
   "nbconvert_exporter": "python",
   "pygments_lexer": "ipython3",
   "version": "3.9.7"
  }
 },
 "nbformat": 4,
 "nbformat_minor": 0
}
