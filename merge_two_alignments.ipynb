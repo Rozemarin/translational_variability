{
 "cells": [
  {
   "cell_type": "code",
   "execution_count": 1,
   "metadata": {},
   "outputs": [],
   "source": [
    "folder_name = \"corpora/subtitles/facebook/alignments_xaa_0-500\"\n",
    "fname_mwmf = f\"{folder_name}/mwmf\"\n",
    "fname_itermax = f\"{folder_name}/itermax\"\n",
    "fname_inter = f\"{folder_name}/inter\"\n",
    "\n",
    "with open(fname_mwmf, \"rt\", encoding=\"utf-8\") as f:\n",
    "    mwmf = [line.rstrip() for line in f.readlines()]\n",
    "with open(fname_itermax, \"rt\", encoding=\"utf-8\") as f:\n",
    "    itermax = [line.rstrip() for line in f.readlines()]\n",
    "with open(fname_inter, \"rt\", encoding=\"utf-8\") as f:\n",
    "    inter = [line.rstrip() for line in f.readlines()]"
   ]
  },
  {
   "cell_type": "code",
   "execution_count": 2,
   "metadata": {},
   "outputs": [],
   "source": [
    "another_folder_name = \"corpora/subtitles/facebook/alignments_xab_0-500\"\n",
    "another_fname_mwmf = f\"{another_folder_name}/mwmf\"\n",
    "another_fname_itermax = f\"{another_folder_name}/itermax\"\n",
    "another_fname_inter = f\"{another_folder_name}/inter\"\n",
    "\n",
    "with open(another_fname_mwmf, \"rt\", encoding=\"utf-8\") as f:\n",
    "    another_mwmf = [line.rstrip() for line in f.readlines()]\n",
    "with open(another_fname_itermax, \"rt\", encoding=\"utf-8\") as f:\n",
    "    another_itermax = [line.rstrip() for line in f.readlines()]\n",
    "with open(another_fname_inter, \"rt\", encoding=\"utf-8\") as f:\n",
    "    another_inter = [line.rstrip() for line in f.readlines()]"
   ]
  },
  {
   "cell_type": "code",
   "execution_count": 3,
   "metadata": {},
   "outputs": [],
   "source": [
    "for i in range(400000):\n",
    "    mwmf.append(\"\")\n",
    "    itermax.append(\"\")\n",
    "    inter.append(\"\")"
   ]
  },
  {
   "cell_type": "code",
   "execution_count": 6,
   "metadata": {},
   "outputs": [],
   "source": [
    "for i in range(500000, 900000):\n",
    "    if mwmf[i] == \"\" and another_mwmf[i-500000] != \"\":\n",
    "        mwmf[i] = another_mwmf[i-500000] \n",
    "        itermax[i] = another_itermax[i-500000]\n",
    "        inter[i] = another_inter[i-500000]"
   ]
  },
  {
   "cell_type": "code",
   "execution_count": 7,
   "metadata": {},
   "outputs": [],
   "source": [
    "with open(fname_mwmf, 'w', encoding=\"utf-8\") as f:\n",
    "    for line in mwmf:\n",
    "        f.write(line)\n",
    "        f.write('\\n')\n",
    "\n",
    "with open(fname_itermax, 'w', encoding=\"utf-8\") as f:\n",
    "    for line in itermax:\n",
    "        f.write(line)\n",
    "        f.write('\\n')\n",
    "\n",
    "with open(fname_inter, 'w', encoding=\"utf-8\") as f:\n",
    "    for line in inter:\n",
    "        f.write(line)\n",
    "        f.write('\\n')"
   ]
  },
  {
   "attachments": {},
   "cell_type": "markdown",
   "metadata": {},
   "source": [
    "# spacy"
   ]
  },
  {
   "cell_type": "code",
   "execution_count": 1,
   "metadata": {},
   "outputs": [],
   "source": [
    "from spacy.tokens import DocBin\n",
    "import spacy"
   ]
  },
  {
   "cell_type": "code",
   "execution_count": 8,
   "metadata": {},
   "outputs": [],
   "source": [
    "with open(\"spaced/xaa\", \"rb\") as file:\n",
    "    en_bytes_data = file.read()\n",
    "\n",
    "nlp = spacy.blank(\"en\")\n",
    "doc_bin = DocBin().from_bytes(en_bytes_data)\n",
    "xaa_docs = list(doc_bin.get_docs(nlp.vocab))"
   ]
  },
  {
   "cell_type": "code",
   "execution_count": 10,
   "metadata": {},
   "outputs": [
    {
     "data": {
      "text/plain": [
       "500000"
      ]
     },
     "execution_count": 10,
     "metadata": {},
     "output_type": "execute_result"
    }
   ],
   "source": [
    "len(xaa_docs)"
   ]
  },
  {
   "cell_type": "code",
   "execution_count": 3,
   "metadata": {},
   "outputs": [],
   "source": [
    "with open(\"corpora/subtitles/facebook/spaced/xab\", \"rb\") as file:\n",
    "    en_bytes_data = file.read()\n",
    "\n",
    "nlp = spacy.blank(\"en\")\n",
    "doc_bin = DocBin().from_bytes(en_bytes_data)\n",
    "xab_docs = list(doc_bin.get_docs(nlp.vocab))"
   ]
  },
  {
   "cell_type": "code",
   "execution_count": 4,
   "metadata": {},
   "outputs": [
    {
     "data": {
      "text/plain": [
       "900000"
      ]
     },
     "execution_count": 4,
     "metadata": {},
     "output_type": "execute_result"
    }
   ],
   "source": [
    "for i in range(400000):\n",
    "    xaa_docs.append(xab_docs[i])\n",
    "len(xaa_docs)"
   ]
  },
  {
   "cell_type": "code",
   "execution_count": 6,
   "metadata": {},
   "outputs": [],
   "source": [
    "from tqdm import tqdm"
   ]
  },
  {
   "cell_type": "code",
   "execution_count": 7,
   "metadata": {},
   "outputs": [
    {
     "name": "stderr",
     "output_type": "stream",
     "text": [
      "100%|██████████| 900000/900000 [00:38<00:00, 23185.63it/s]\n"
     ]
    }
   ],
   "source": [
    "docs_bin = DocBin()\n",
    "for i in tqdm(range(900000)):\n",
    "    docs_bin.add(xaa_docs[i])\n",
    "\n",
    "bytes_data = docs_bin.to_bytes()\n",
    "with open(\"spaced/xaa\", \"wb\") as file:\n",
    "    file.write(bytes_data)"
   ]
  }
 ],
 "metadata": {
  "kernelspec": {
   "display_name": "venv",
   "language": "python",
   "name": "python3"
  },
  "language_info": {
   "codemirror_mode": {
    "name": "ipython",
    "version": 3
   },
   "file_extension": ".py",
   "mimetype": "text/x-python",
   "name": "python",
   "nbconvert_exporter": "python",
   "pygments_lexer": "ipython3",
   "version": "3.9.7"
  },
  "orig_nbformat": 4
 },
 "nbformat": 4,
 "nbformat_minor": 2
}
