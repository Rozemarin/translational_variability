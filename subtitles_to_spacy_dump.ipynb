{
 "cells": [
  {
   "cell_type": "code",
   "execution_count": 1,
   "metadata": {
    "collapsed": true,
    "ExecuteTime": {
     "start_time": "2023-04-27T13:23:26.339952Z",
     "end_time": "2023-04-27T13:23:27.438973Z"
    }
   },
   "outputs": [],
   "source": [
    "with open(\"subtitles_raw/ru-en_0-900.txt\", \"rt\", encoding=\"utf-8\") as f:\n",
    "    text = f.read()\n",
    "\n",
    "data = text.split('================================')"
   ]
  },
  {
   "cell_type": "code",
   "execution_count": 2,
   "outputs": [],
   "source": [
    "data = [item.strip() for item in data]\n",
    "\n",
    "ru = []\n",
    "en = []\n",
    "idx = 0\n",
    "for item in data:\n",
    "    if item.startswith('#') or not item:\n",
    "        continue\n",
    "    sentences = item.split('\\n')\n",
    "    src = []\n",
    "    trg = []\n",
    "    for sentence in sentences:\n",
    "        # print(idx, sentence)\n",
    "        if sentence.startswith(\"(src)\"):\n",
    "            trash, useful = sentence.split(\">\")\n",
    "            useful = useful.split()\n",
    "            src += useful\n",
    "        else:\n",
    "            trash, useful = sentence.split(\">\")\n",
    "            useful = useful.split()\n",
    "            trg += useful\n",
    "        idx += 1\n",
    "\n",
    "    ru.append(src)\n",
    "    en.append(trg)\n"
   ],
   "metadata": {
    "collapsed": false,
    "ExecuteTime": {
     "start_time": "2023-04-27T13:23:34.997028Z",
     "end_time": "2023-04-27T13:23:41.528462Z"
    }
   }
  },
  {
   "cell_type": "code",
   "execution_count": 8,
   "outputs": [],
   "source": [
    "chunk_size = 20000\n",
    "latest_chunk = 0\n",
    "\n",
    "mwmf_names = []\n",
    "itermax_names = []\n",
    "inter_names = []\n",
    "\n",
    "for chunk_start in range(latest_chunk, len(ru), chunk_size):\n",
    "    folder_name = \"corpora/subtitles/numerical_alignment\"\n",
    "    filename = f\"aligned_{chunk_start}-{chunk_start + chunk_size - 1}\"\n",
    "\n",
    "    fname_mwmf = f\"{folder_name}/mwmf/{filename}\"\n",
    "    fname_itermax = f\"{folder_name}/itermax/{filename}\"\n",
    "    fname_inter = f\"{folder_name}/inter/{filename}\"\n",
    "\n",
    "    mwmf_names.append(fname_mwmf)\n",
    "    itermax_names.append(fname_itermax)\n",
    "    inter_names.append(fname_inter)"
   ],
   "metadata": {
    "collapsed": false,
    "ExecuteTime": {
     "start_time": "2023-04-27T13:42:24.023641Z",
     "end_time": "2023-04-27T13:42:24.039636Z"
    }
   }
  },
  {
   "cell_type": "code",
   "execution_count": 11,
   "outputs": [],
   "source": [
    "test_file_names = [\"test1\", \"test2\", \"test3\"]"
   ],
   "metadata": {
    "collapsed": false,
    "ExecuteTime": {
     "start_time": "2023-04-27T13:46:22.968041Z",
     "end_time": "2023-04-27T13:46:22.976019Z"
    }
   }
  },
  {
   "cell_type": "code",
   "execution_count": 17,
   "outputs": [],
   "source": [
    "import shutil\n",
    "\n",
    "outfilename = \"subtitles_itermax.txt\"\n",
    "\n",
    "with open(outfilename, 'wt', encoding='utf-8') as outfile:\n",
    "    for filename in itermax_names:\n",
    "        with open(filename, 'rt', encoding='utf-8') as readfile:\n",
    "            shutil.copyfileobj(readfile, outfile)"
   ],
   "metadata": {
    "collapsed": false,
    "ExecuteTime": {
     "start_time": "2023-04-27T13:54:22.549140Z",
     "end_time": "2023-04-27T13:54:22.745619Z"
    }
   }
  },
  {
   "cell_type": "code",
   "execution_count": 18,
   "outputs": [],
   "source": [
    "import spacy\n",
    "from spacy.tokens import Doc"
   ],
   "metadata": {
    "collapsed": false,
    "ExecuteTime": {
     "start_time": "2023-04-27T14:01:36.667865Z",
     "end_time": "2023-04-27T14:01:36.683864Z"
    }
   }
  },
  {
   "cell_type": "code",
   "execution_count": 4,
   "outputs": [],
   "source": [
    "en_nlp_lg = spacy.load(\"en_core_web_lg\")\n",
    "ru_nlp_lg = spacy.load(\"ru_core_news_lg\")"
   ],
   "metadata": {
    "collapsed": false,
    "ExecuteTime": {
     "start_time": "2023-04-27T13:24:31.206052Z",
     "end_time": "2023-04-27T13:24:37.086735Z"
    }
   }
  },
  {
   "cell_type": "code",
   "execution_count": 21,
   "outputs": [],
   "source": [
    "from tqdm import tqdm"
   ],
   "metadata": {
    "collapsed": false,
    "ExecuteTime": {
     "start_time": "2023-04-27T14:07:35.788085Z",
     "end_time": "2023-04-27T14:07:35.788085Z"
    }
   }
  },
  {
   "cell_type": "code",
   "execution_count": 27,
   "outputs": [
    {
     "name": "stderr",
     "output_type": "stream",
     "text": [
      " 46%|████▌     | 414088/900000 [50:34<1:03:13, 128.10it/s]"
     ]
    }
   ],
   "source": [
    "nlp = ru_nlp_lg\n",
    "docs = []\n",
    "\n",
    "for sent in tqdm(ru):\n",
    "    doc = Doc(nlp.vocab, sent)\n",
    "    docs.append(nlp(doc))"
   ],
   "metadata": {
    "collapsed": false,
    "ExecuteTime": {
     "start_time": "2023-04-27T14:12:30.955145Z",
     "end_time": "2023-04-27T16:12:12.563994Z"
    }
   }
  },
  {
   "cell_type": "code",
   "execution_count": 31,
   "outputs": [],
   "source": [
    "docs"
   ],
   "metadata": {
    "collapsed": false,
    "ExecuteTime": {
     "start_time": "2023-04-27T16:18:33.901319Z",
     "end_time": "2023-04-27T16:18:34.065398Z"
    }
   }
  },
  {
   "cell_type": "code",
   "execution_count": 33,
   "outputs": [],
   "source": [
    "docs[3][1]"
   ],
   "metadata": {
    "collapsed": false,
    "ExecuteTime": {
     "start_time": "2023-04-27T16:18:44.710133Z",
     "end_time": "2023-04-27T16:18:44.744060Z"
    }
   }
  },
  {
   "cell_type": "code",
   "execution_count": 34,
   "outputs": [],
   "source": [
    "from spacy.tokens import DocBin\n",
    "\n",
    "doc_bin = DocBin()\n",
    "for document in docs:\n",
    "    doc_bin.add(document)\n",
    "bytes_data = doc_bin.to_bytes()"
   ],
   "metadata": {
    "collapsed": false,
    "ExecuteTime": {
     "start_time": "2023-04-27T16:19:33.585467Z",
     "end_time": "2023-04-27T16:21:01.791257Z"
    }
   }
  },
  {
   "cell_type": "code",
   "execution_count": 35,
   "outputs": [],
   "source": [
    "with open(\"subtitles_spacy_dump.bin\", \"wb\") as f:\n",
    "    f.write(bytes_data)"
   ],
   "metadata": {
    "collapsed": false,
    "ExecuteTime": {
     "start_time": "2023-04-27T16:20:29.427497Z",
     "end_time": "2023-04-27T16:21:02.486265Z"
    }
   }
  },
  {
   "cell_type": "markdown",
   "source": [
    "restore"
   ],
   "metadata": {
    "collapsed": false
   }
  },
  {
   "cell_type": "code",
   "execution_count": 3,
   "outputs": [],
   "source": [
    "from spacy.tokens import DocBin\n",
    "import spacy"
   ],
   "metadata": {
    "collapsed": false,
    "ExecuteTime": {
     "start_time": "2023-04-27T16:27:33.791661Z",
     "end_time": "2023-04-27T16:27:43.169905Z"
    }
   }
  },
  {
   "cell_type": "code",
   "execution_count": 1,
   "outputs": [],
   "source": [
    "with open(\"subtitles_spacy_dump.bin\", \"rb\") as file:\n",
    "    restored_bytes_data = file.read()"
   ],
   "metadata": {
    "collapsed": false,
    "ExecuteTime": {
     "start_time": "2023-04-27T16:27:01.324639Z",
     "end_time": "2023-04-27T16:27:01.415638Z"
    }
   }
  },
  {
   "cell_type": "code",
   "execution_count": 4,
   "outputs": [],
   "source": [
    "nlp = spacy.blank(\"ru\")\n",
    "restored_doc_bin = DocBin().from_bytes(restored_bytes_data)\n",
    "restored_docs = list(restored_doc_bin.get_docs(nlp.vocab))"
   ],
   "metadata": {
    "collapsed": false,
    "ExecuteTime": {
     "start_time": "2023-04-27T16:27:44.736223Z",
     "end_time": "2023-04-27T16:28:32.046627Z"
    }
   }
  },
  {
   "cell_type": "code",
   "execution_count": 8,
   "outputs": [
    {
     "name": "stdout",
     "output_type": "stream",
     "text": [
      "Бабер , пусть Джэк вьIйдет ... если с ним все в порядке ... Я отдам ему машину , и никто его больше не тронет . Он сможет ? \n"
     ]
    }
   ],
   "source": [
    "print(restored_docs[900000-1 ])"
   ],
   "metadata": {
    "collapsed": false,
    "ExecuteTime": {
     "start_time": "2023-04-27T16:29:38.874646Z",
     "end_time": "2023-04-27T16:29:38.884646Z"
    }
   }
  }
 ],
 "metadata": {
  "kernelspec": {
   "display_name": "Python 3",
   "language": "python",
   "name": "python3"
  },
  "language_info": {
   "codemirror_mode": {
    "name": "ipython",
    "version": 2
   },
   "file_extension": ".py",
   "mimetype": "text/x-python",
   "name": "python",
   "nbconvert_exporter": "python",
   "pygments_lexer": "ipython2",
   "version": "2.7.6"
  }
 },
 "nbformat": 4,
 "nbformat_minor": 0
}
