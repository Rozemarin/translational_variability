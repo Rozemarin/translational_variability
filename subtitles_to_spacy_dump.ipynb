{
 "cells": [
  {
   "cell_type": "code",
   "execution_count": 1,
   "metadata": {
    "collapsed": true,
    "ExecuteTime": {
     "start_time": "2023-04-27T13:23:26.339952Z",
     "end_time": "2023-04-27T13:23:27.438973Z"
    }
   },
   "outputs": [],
   "source": [
    "with open(\"subtitles_raw/ru-en_0-900.txt\", \"rt\", encoding=\"utf-8\") as f:\n",
    "    text = f.read()\n",
    "\n",
    "data = text.split('================================')"
   ]
  },
  {
   "cell_type": "code",
   "execution_count": 2,
   "outputs": [],
   "source": [
    "data = [item.strip() for item in data]\n",
    "\n",
    "ru = []\n",
    "en = []\n",
    "idx = 0\n",
    "for item in data:\n",
    "    if item.startswith('#') or not item:\n",
    "        continue\n",
    "    sentences = item.split('\\n')\n",
    "    src = []\n",
    "    trg = []\n",
    "    for sentence in sentences:\n",
    "        # print(idx, sentence)\n",
    "        if sentence.startswith(\"(src)\"):\n",
    "            trash, useful = sentence.split(\">\")\n",
    "            useful = useful.split()\n",
    "            src += useful\n",
    "        else:\n",
    "            trash, useful = sentence.split(\">\")\n",
    "            useful = useful.split()\n",
    "            trg += useful\n",
    "        idx += 1\n",
    "\n",
    "    ru.append(src)\n",
    "    en.append(trg)\n"
   ],
   "metadata": {
    "collapsed": false,
    "ExecuteTime": {
     "start_time": "2023-04-27T13:23:34.997028Z",
     "end_time": "2023-04-27T13:23:41.528462Z"
    }
   }
  },
  {
   "cell_type": "code",
   "execution_count": 8,
   "outputs": [],
   "source": [
    "chunk_size = 20000\n",
    "latest_chunk = 0\n",
    "\n",
    "mwmf_names = []\n",
    "itermax_names = []\n",
    "inter_names = []\n",
    "\n",
    "for chunk_start in range(latest_chunk, len(ru), chunk_size):\n",
    "    folder_name = \"corpora/subtitles/numerical_alignment\"\n",
    "    filename = f\"aligned_{chunk_start}-{chunk_start + chunk_size - 1}\"\n",
    "\n",
    "    fname_mwmf = f\"{folder_name}/mwmf/{filename}\"\n",
    "    fname_itermax = f\"{folder_name}/itermax/{filename}\"\n",
    "    fname_inter = f\"{folder_name}/inter/{filename}\"\n",
    "\n",
    "    mwmf_names.append(fname_mwmf)\n",
    "    itermax_names.append(fname_itermax)\n",
    "    inter_names.append(fname_inter)"
   ],
   "metadata": {
    "collapsed": false,
    "ExecuteTime": {
     "start_time": "2023-04-27T13:42:24.023641Z",
     "end_time": "2023-04-27T13:42:24.039636Z"
    }
   }
  },
  {
   "cell_type": "code",
   "execution_count": 11,
   "outputs": [],
   "source": [
    "test_file_names = [\"test1\", \"test2\", \"test3\"]"
   ],
   "metadata": {
    "collapsed": false,
    "ExecuteTime": {
     "start_time": "2023-04-27T13:46:22.968041Z",
     "end_time": "2023-04-27T13:46:22.976019Z"
    }
   }
  },
  {
   "cell_type": "code",
   "execution_count": 17,
   "outputs": [],
   "source": [
    "import shutil\n",
    "\n",
    "outfilename = \"subtitles_itermax.txt\"\n",
    "\n",
    "with open(outfilename, 'wt', encoding='utf-8') as outfile:\n",
    "    for filename in itermax_names:\n",
    "        with open(filename, 'rt', encoding='utf-8') as readfile:\n",
    "            shutil.copyfileobj(readfile, outfile)"
   ],
   "metadata": {
    "collapsed": false,
    "ExecuteTime": {
     "start_time": "2023-04-27T13:54:22.549140Z",
     "end_time": "2023-04-27T13:54:22.745619Z"
    }
   }
  },
  {
   "cell_type": "code",
   "execution_count": 18,
   "outputs": [],
   "source": [
    "import spacy\n",
    "from spacy.tokens import Doc"
   ],
   "metadata": {
    "collapsed": false,
    "ExecuteTime": {
     "start_time": "2023-04-27T14:01:36.667865Z",
     "end_time": "2023-04-27T14:01:36.683864Z"
    }
   }
  },
  {
   "cell_type": "code",
   "execution_count": 4,
   "outputs": [],
   "source": [
    "en_nlp_lg = spacy.load(\"en_core_web_lg\")\n",
    "ru_nlp_lg = spacy.load(\"ru_core_news_lg\")"
   ],
   "metadata": {
    "collapsed": false,
    "ExecuteTime": {
     "start_time": "2023-04-27T13:24:31.206052Z",
     "end_time": "2023-04-27T13:24:37.086735Z"
    }
   }
  },
  {
   "cell_type": "code",
   "execution_count": 7,
   "outputs": [
    {
     "name": "stdout",
     "output_type": "stream",
     "text": [
      "Hello INTJ\n",
      ", PUNCT\n",
      "world NOUN\n",
      ". PUNCT\n"
     ]
    }
   ],
   "source": [
    "sents = ru\n",
    "for sent in sents:\n",
    "    doc = Doc(en_nlp_lg.vocab, sent)\n",
    "    for token in en_nlp_lg(doc):\n",
    "        print(token.text, token.pos_)"
   ],
   "metadata": {
    "collapsed": false,
    "ExecuteTime": {
     "start_time": "2023-04-27T13:34:48.615800Z",
     "end_time": "2023-04-27T13:34:48.679350Z"
    }
   }
  }
 ],
 "metadata": {
  "kernelspec": {
   "display_name": "Python 3",
   "language": "python",
   "name": "python3"
  },
  "language_info": {
   "codemirror_mode": {
    "name": "ipython",
    "version": 2
   },
   "file_extension": ".py",
   "mimetype": "text/x-python",
   "name": "python",
   "nbconvert_exporter": "python",
   "pygments_lexer": "ipython2",
   "version": "2.7.6"
  }
 },
 "nbformat": 4,
 "nbformat_minor": 0
}
