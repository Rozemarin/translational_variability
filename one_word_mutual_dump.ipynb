{
 "cells": [
  {
   "cell_type": "code",
   "execution_count": 22,
   "metadata": {
    "ExecuteTime": {
     "end_time": "2023-05-03T11:21:50.722104Z",
     "start_time": "2023-05-03T11:21:42.025969Z"
    },
    "collapsed": true
   },
   "outputs": [],
   "source": [
    "import os\n",
    "from pprint import pprint\n",
    "from tqdm import tqdm\n",
    "import  spacy\n",
    "from spacy.tokens import DocBin\n",
    "from collections import Counter"
   ]
  },
  {
   "cell_type": "code",
   "execution_count": 2,
   "metadata": {
    "ExecuteTime": {
     "end_time": "2023-05-03T11:21:55.013252Z",
     "start_time": "2023-05-03T11:21:50.730917Z"
    },
    "collapsed": false
   },
   "outputs": [],
   "source": [
    "from easynmt import EasyNMT\n",
    "model = EasyNMT('opus-mt')"
   ]
  },
  {
   "cell_type": "code",
   "execution_count": 4,
   "metadata": {
    "ExecuteTime": {
     "end_time": "2023-05-03T11:22:50.043321Z",
     "start_time": "2023-05-03T11:21:55.013252Z"
    },
    "collapsed": false
   },
   "outputs": [],
   "source": [
    "with open(\"subtitles_raw/en_raw_0-900.txt\", \"rt\", encoding=\"utf-8\") as f:\n",
    "    en_all = [line.strip() for line in f]\n",
    "\n",
    "with open(\"subtitles_raw/ru_raw_0-900.txt\", \"rt\", encoding=\"utf-8\") as f:\n",
    "    ru_all = [line.strip() for line in f]\n",
    "\n",
    "with open(\"corpora/subtitles/ru_subtitles_spacy_dump.bin\", \"rb\") as f:\n",
    "    restored_bytes_data = f.read()\n",
    "\n",
    "nlp = spacy.blank(\"ru\")\n",
    "doc_bin = DocBin().from_bytes(restored_bytes_data)\n",
    "ru_all_docs = list(doc_bin.get_docs(nlp.vocab))"
   ]
  },
  {
   "cell_type": "code",
   "execution_count": 5,
   "metadata": {
    "ExecuteTime": {
     "end_time": "2023-05-03T11:22:50.063254Z",
     "start_time": "2023-05-03T11:22:50.054072Z"
    },
    "collapsed": false
   },
   "outputs": [],
   "source": [
    "def most_common_lemmas(docs, n: int):\n",
    "    words = []\n",
    "    for doc in docs:\n",
    "        for token in doc:\n",
    "            if not token.is_stop and not token.is_punct:\n",
    "                words.append(token.lemma_.lower())\n",
    "    word_freq = Counter(words)\n",
    "    return word_freq.most_common(n)\n",
    "\n",
    "def most_common_lemmas_tagged(docs, tag, n: int):\n",
    "    words = []\n",
    "    for doc in docs:\n",
    "        for token in doc:\n",
    "            if not token.is_stop and not token.is_punct:\n",
    "                if token.pos_ == tag:\n",
    "                    words.append(token.lemma_.lower())\n",
    "    word_freq = Counter(words)\n",
    "    return word_freq.most_common(n)"
   ]
  },
  {
   "cell_type": "code",
   "execution_count": 24,
   "metadata": {
    "ExecuteTime": {
     "end_time": "2023-05-03T11:22:52.276480Z",
     "start_time": "2023-05-03T11:22:50.064397Z"
    },
    "collapsed": false
   },
   "outputs": [
    {
     "data": {
      "text/plain": [
       "[('знать', 27172),\n",
       " ('сказать', 18957),\n",
       " ('говорить', 14248),\n",
       " ('думать', 13659),\n",
       " ('видеть', 10555),\n",
       " ('сделать', 9162),\n",
       " ('идти', 8690),\n",
       " ('делать', 8078),\n",
       " ('пойти', 7671),\n",
       " ('хотеть', 6727),\n",
       " ('любить', 5621),\n",
       " ('дать', 5565),\n",
       " ('найти', 5433),\n",
       " ('давать', 5338),\n",
       " ('прийти', 5308),\n",
       " ('понимать', 5112),\n",
       " ('взять', 4637),\n",
       " ('вернуться', 4525),\n",
       " ('помочь', 4211),\n",
       " ('ждать', 3986),\n",
       " ('слышать', 3838),\n",
       " ('просить', 3823),\n",
       " ('посмотреть', 3755),\n",
       " ('смочь', 3671),\n",
       " ('жить', 3645),\n",
       " ('убить', 3641),\n",
       " ('случиться', 3449),\n",
       " ('понять', 3438),\n",
       " ('остаться', 3391),\n",
       " ('смотреть', 3363),\n",
       " ('увидеть', 3361),\n",
       " ('бояться', 3324),\n",
       " ('нравиться', 3184),\n",
       " ('уйти', 3180),\n",
       " ('простить', 3103),\n",
       " ('работать', 3029),\n",
       " ('оставить', 2975),\n",
       " ('стоить', 2938),\n",
       " ('забыть', 2859),\n",
       " ('получить', 2798),\n",
       " ('помнить', 2677),\n",
       " ('выйти', 2674),\n",
       " ('собираться', 2665),\n",
       " ('слушать', 2590),\n",
       " ('уходить', 2467),\n",
       " ('спать', 2407),\n",
       " ('умереть', 2398),\n",
       " ('рассказать', 2391),\n",
       " ('надеяться', 2366),\n",
       " ('поговорить', 2346),\n",
       " ('подумать', 2326),\n",
       " ('иметь', 2250),\n",
       " ('позволить', 2133),\n",
       " ('узнать', 2106),\n",
       " ('подождать', 2076),\n",
       " ('верить', 1979),\n",
       " ('решить', 1976),\n",
       " ('играть', 1965),\n",
       " ('звать', 1964),\n",
       " ('поехать', 1952),\n",
       " ('чувствовать', 1940),\n",
       " ('пытаться', 1938),\n",
       " ('прийтись', 1876),\n",
       " ('приехать', 1870),\n",
       " ('искать', 1818),\n",
       " ('извинить', 1796),\n",
       " ('считать', 1795),\n",
       " ('уехать', 1753),\n",
       " ('принести', 1738),\n",
       " ('хватить', 1689),\n",
       " ('здравствовать', 1657),\n",
       " ('выглядеть', 1640),\n",
       " ('показать', 1625),\n",
       " ('ехать', 1622),\n",
       " ('купить', 1602),\n",
       " ('пройти', 1574),\n",
       " ('начать', 1522),\n",
       " ('оставаться', 1514),\n",
       " ('послушать', 1435),\n",
       " ('стать', 1419),\n",
       " ('ходить', 1417),\n",
       " ('вести', 1391),\n",
       " ('приходить', 1382),\n",
       " ('волноваться', 1363),\n",
       " ('выпить', 1356),\n",
       " ('принять', 1330),\n",
       " ('спросить', 1328),\n",
       " ('написать', 1319),\n",
       " ('сидеть', 1311),\n",
       " ('потерять', 1305),\n",
       " ('произойти', 1302),\n",
       " ('выходить', 1287),\n",
       " ('держать', 1279),\n",
       " ('позвонить', 1246),\n",
       " ('открыть', 1232),\n",
       " ('поверить', 1229),\n",
       " ('отдать', 1205),\n",
       " ('пить', 1205),\n",
       " ('обещать', 1190),\n",
       " ('писать', 1179)]"
      ]
     },
     "execution_count": 24,
     "metadata": {},
     "output_type": "execute_result"
    }
   ],
   "source": [
    "common_nouns = most_common_lemmas_tagged(ru_all_docs, \"VERB\", 100)\n",
    "common_nouns"
   ]
  },
  {
   "cell_type": "code",
   "execution_count": 25,
   "metadata": {
    "ExecuteTime": {
     "end_time": "2023-05-03T11:22:52.295371Z",
     "start_time": "2023-05-03T11:22:52.276480Z"
    },
    "collapsed": false
   },
   "outputs": [
    {
     "data": {
      "text/plain": [
       "['хотеть',\n",
       " 'любить',\n",
       " 'дать',\n",
       " 'найти',\n",
       " 'давать',\n",
       " 'прийти',\n",
       " 'понимать',\n",
       " 'взять',\n",
       " 'вернуться',\n",
       " 'помочь',\n",
       " 'ждать',\n",
       " 'слышать',\n",
       " 'просить',\n",
       " 'посмотреть',\n",
       " 'смочь',\n",
       " 'жить',\n",
       " 'убить',\n",
       " 'случиться',\n",
       " 'понять',\n",
       " 'остаться',\n",
       " 'смотреть',\n",
       " 'увидеть',\n",
       " 'бояться',\n",
       " 'нравиться',\n",
       " 'уйти',\n",
       " 'простить',\n",
       " 'работать',\n",
       " 'оставить',\n",
       " 'стоить',\n",
       " 'забыть',\n",
       " 'получить',\n",
       " 'помнить',\n",
       " 'выйти',\n",
       " 'собираться',\n",
       " 'слушать',\n",
       " 'уходить',\n",
       " 'спать',\n",
       " 'умереть',\n",
       " 'рассказать',\n",
       " 'надеяться',\n",
       " 'поговорить',\n",
       " 'подумать',\n",
       " 'иметь',\n",
       " 'позволить',\n",
       " 'узнать',\n",
       " 'подождать',\n",
       " 'верить',\n",
       " 'решить',\n",
       " 'играть',\n",
       " 'звать',\n",
       " 'поехать',\n",
       " 'чувствовать',\n",
       " 'пытаться',\n",
       " 'прийтись',\n",
       " 'приехать',\n",
       " 'искать',\n",
       " 'извинить',\n",
       " 'считать',\n",
       " 'уехать',\n",
       " 'принести',\n",
       " 'хватить',\n",
       " 'здравствовать',\n",
       " 'выглядеть',\n",
       " 'показать',\n",
       " 'ехать',\n",
       " 'купить',\n",
       " 'пройти',\n",
       " 'начать',\n",
       " 'оставаться',\n",
       " 'послушать',\n",
       " 'стать',\n",
       " 'ходить',\n",
       " 'вести',\n",
       " 'приходить',\n",
       " 'волноваться',\n",
       " 'выпить',\n",
       " 'принять',\n",
       " 'спросить',\n",
       " 'написать',\n",
       " 'сидеть',\n",
       " 'потерять',\n",
       " 'произойти',\n",
       " 'выходить',\n",
       " 'держать',\n",
       " 'позвонить',\n",
       " 'открыть',\n",
       " 'поверить',\n",
       " 'отдать',\n",
       " 'пить',\n",
       " 'обещать',\n",
       " 'писать']"
      ]
     },
     "execution_count": 25,
     "metadata": {},
     "output_type": "execute_result"
    }
   ],
   "source": [
    "common = [word for word, _ in common_nouns]\n",
    "common = common[9:]\n",
    "common"
   ]
  },
  {
   "cell_type": "code",
   "execution_count": 26,
   "metadata": {
    "ExecuteTime": {
     "end_time": "2023-05-03T11:22:52.384747Z",
     "start_time": "2023-05-03T11:22:52.297501Z"
    },
    "collapsed": false
   },
   "outputs": [],
   "source": [
    "def find_lines_with_word(original_word: str, docs) -> list:\n",
    "    indexes = []\n",
    "    for i, sentence in enumerate(docs):\n",
    "        for token in sentence:\n",
    "            if token.lemma_.lower() == original_word:\n",
    "                indexes.append(i)\n",
    "                break\n",
    "    return indexes"
   ]
  },
  {
   "cell_type": "code",
   "execution_count": 27,
   "metadata": {
    "ExecuteTime": {
     "end_time": "2023-05-03T11:23:55.869598Z",
     "start_time": "2023-05-03T11:22:52.369120Z"
    },
    "collapsed": false
   },
   "outputs": [
    {
     "data": {
      "text/plain": [
       "250775"
      ]
     },
     "execution_count": 27,
     "metadata": {},
     "output_type": "execute_result"
    }
   ],
   "source": [
    "indexes = []\n",
    "for original_word in common:\n",
    "    indexes += find_lines_with_word(original_word, ru_all_docs)\n",
    "len(indexes)"
   ]
  },
  {
   "cell_type": "code",
   "execution_count": 6,
   "metadata": {
    "ExecuteTime": {
     "end_time": "2023-05-02T19:05:48.545131Z",
     "start_time": "2023-05-02T19:05:48.504000Z"
    },
    "collapsed": false
   },
   "outputs": [],
   "source": [
    "folder_name = f\"corpora/subtitles/translations/{original_word}\"\n",
    "os.mkdir(folder_name)\n",
    "with open(f\"{folder_name}/indexes\", \"wt\", encoding=\"utf-8\") as f:\n",
    "    for number in indexes:\n",
    "        f.write(str(number))\n",
    "        f.write('\\n')"
   ]
  },
  {
   "cell_type": "code",
   "execution_count": 28,
   "metadata": {
    "ExecuteTime": {
     "end_time": "2023-05-03T11:23:56.010689Z",
     "start_time": "2023-05-03T11:23:55.869598Z"
    },
    "collapsed": false
   },
   "outputs": [
    {
     "data": {
      "text/plain": [
       "900000"
      ]
     },
     "execution_count": 28,
     "metadata": {},
     "output_type": "execute_result"
    }
   ],
   "source": [
    "filename_translated_all = \"corpora/subtitles/translations/opus10_whole.txt\"\n",
    "with open(filename_translated_all, \"rt\", encoding=\"utf-8\") as f:\n",
    "    translated_all = [line.rstrip() for line in f.readlines()]\n",
    "len(translated_all)"
   ]
  },
  {
   "cell_type": "code",
   "execution_count": 30,
   "metadata": {
    "ExecuteTime": {
     "end_time": "2023-05-03T00:59:50.823596Z",
     "start_time": "2023-05-02T23:26:29.895174Z"
    },
    "collapsed": false
   },
   "outputs": [
    {
     "name": "stderr",
     "output_type": "stream",
     "text": [
      "100%|██████████| 500/500 [10:14<00:00,  1.23s/it]\n",
      "100%|██████████| 500/500 [08:19<00:00,  1.00it/s]\n",
      "100%|██████████| 500/500 [08:16<00:00,  1.01it/s]\n",
      "100%|██████████| 500/500 [06:54<00:00,  1.21it/s]\n",
      "100%|██████████| 500/500 [08:35<00:00,  1.03s/it]\n",
      "100%|██████████| 500/500 [07:30<00:00,  1.11it/s]\n",
      "100%|██████████| 500/500 [08:46<00:00,  1.05s/it]\n",
      "100%|██████████| 500/500 [07:42<00:00,  1.08it/s]\n",
      "100%|██████████| 500/500 [07:24<00:00,  1.12it/s]\n",
      "100%|██████████| 500/500 [07:43<00:00,  1.08it/s]\n",
      "100%|██████████| 500/500 [07:00<00:00,  1.19it/s]\n",
      "100%|██████████| 500/500 [08:04<00:00,  1.03it/s]\n",
      "100%|██████████| 500/500 [07:20<00:00,  1.13it/s]\n",
      "100%|██████████| 500/500 [10:00<00:00,  1.20s/it]\n",
      "100%|██████████| 500/500 [09:29<00:00,  1.14s/it]\n",
      "100%|██████████| 500/500 [09:08<00:00,  1.10s/it]\n",
      "100%|██████████| 500/500 [07:41<00:00,  1.08it/s]\n",
      "100%|██████████| 500/500 [07:41<00:00,  1.08it/s]\n",
      "100%|██████████| 500/500 [07:50<00:00,  1.06it/s]\n",
      "100%|██████████| 500/500 [07:23<00:00,  1.13it/s]\n",
      "100%|██████████| 500/500 [06:40<00:00,  1.25it/s]\n",
      "100%|██████████| 500/500 [07:29<00:00,  1.11it/s]\n",
      "100%|██████████| 500/500 [07:53<00:00,  1.05it/s]\n",
      "100%|██████████| 500/500 [07:29<00:00,  1.11it/s]\n",
      "100%|██████████| 500/500 [07:43<00:00,  1.08it/s]\n",
      "100%|██████████| 500/500 [08:24<00:00,  1.01s/it]\n",
      "100%|██████████| 500/500 [08:47<00:00,  1.05s/it]\n",
      "100%|██████████| 500/500 [09:17<00:00,  1.12s/it] \n",
      "100%|██████████| 500/500 [07:10<00:00,  1.16it/s]\n",
      "100%|██████████| 500/500 [07:22<00:00,  1.13it/s]\n",
      "100%|██████████| 500/500 [06:57<00:00,  1.20it/s]\n",
      "100%|██████████| 500/500 [07:33<00:00,  1.10it/s]\n",
      "100%|██████████| 500/500 [07:02<00:00,  1.18it/s]\n",
      "100%|██████████| 500/500 [07:54<00:00,  1.05it/s]\n",
      "100%|██████████| 500/500 [09:23<00:00,  1.13s/it]\n",
      "100%|██████████| 500/500 [07:29<00:00,  1.11it/s]\n",
      "100%|██████████| 500/500 [07:17<00:00,  1.14it/s]\n",
      "100%|██████████| 500/500 [07:58<00:00,  1.05it/s]\n",
      "100%|██████████| 500/500 [08:10<00:00,  1.02it/s]\n",
      "100%|██████████| 500/500 [08:36<00:00,  1.03s/it]\n",
      "100%|██████████| 500/500 [08:09<00:00,  1.02it/s]\n",
      "100%|██████████| 500/500 [07:59<00:00,  1.04it/s]\n",
      "100%|██████████| 500/500 [07:39<00:00,  1.09it/s]\n",
      "100%|██████████| 500/500 [08:08<00:00,  1.02it/s]\n",
      "100%|██████████| 500/500 [08:38<00:00,  1.04s/it]\n",
      "100%|██████████| 500/500 [08:05<00:00,  1.03it/s]\n",
      "100%|██████████| 500/500 [07:18<00:00,  1.14it/s]\n",
      "100%|██████████| 500/500 [07:09<00:00,  1.16it/s]\n",
      "100%|██████████| 500/500 [06:13<00:00,  1.34it/s]\n",
      "100%|██████████| 500/500 [07:06<00:00,  1.17it/s]\n",
      "100%|██████████| 500/500 [07:33<00:00,  1.10it/s]\n",
      "100%|██████████| 500/500 [07:13<00:00,  1.15it/s]\n",
      "100%|██████████| 500/500 [08:32<00:00,  1.02s/it]\n",
      "100%|██████████| 500/500 [07:16<00:00,  1.15it/s]\n",
      "100%|██████████| 500/500 [08:21<00:00,  1.00s/it]\n",
      "100%|██████████| 500/500 [08:10<00:00,  1.02it/s]\n",
      "100%|██████████| 500/500 [08:36<00:00,  1.03s/it]\n",
      "100%|██████████| 500/500 [07:47<00:00,  1.07it/s]\n",
      "100%|██████████| 500/500 [07:49<00:00,  1.07it/s]\n",
      "100%|██████████| 500/500 [07:48<00:00,  1.07it/s]\n",
      "100%|██████████| 500/500 [08:10<00:00,  1.02it/s]\n",
      "100%|██████████| 500/500 [08:52<00:00,  1.07s/it]\n",
      "100%|██████████| 500/500 [08:48<00:00,  1.06s/it]\n",
      "100%|██████████| 500/500 [07:55<00:00,  1.05it/s]\n",
      "100%|██████████| 500/500 [07:55<00:00,  1.05it/s]\n",
      "100%|██████████| 500/500 [07:17<00:00,  1.14it/s]\n",
      "100%|██████████| 500/500 [09:37<00:00,  1.15s/it]\n",
      "100%|██████████| 500/500 [08:48<00:00,  1.06s/it]\n",
      "100%|██████████| 500/500 [07:58<00:00,  1.05it/s]\n",
      "100%|██████████| 500/500 [08:33<00:00,  1.03s/it]\n",
      "100%|██████████| 500/500 [07:43<00:00,  1.08it/s]\n",
      "100%|██████████| 500/500 [08:11<00:00,  1.02it/s]\n",
      "100%|██████████| 500/500 [07:26<00:00,  1.12it/s]\n",
      "100%|██████████| 500/500 [08:51<00:00,  1.06s/it]\n",
      "100%|██████████| 500/500 [07:36<00:00,  1.10it/s]\n",
      "100%|██████████| 500/500 [08:15<00:00,  1.01it/s]\n",
      "100%|██████████| 500/500 [07:40<00:00,  1.08it/s]\n",
      "100%|██████████| 500/500 [10:08<00:00,  1.22s/it]\n",
      "100%|██████████| 500/500 [10:58<00:00,  1.32s/it]\n",
      "100%|██████████| 500/500 [10:02<00:00,  1.20s/it] \n",
      "100%|██████████| 500/500 [10:19<00:00,  1.24s/it]\n",
      "100%|██████████| 500/500 [09:52<00:00,  1.18s/it]\n",
      " 53%|█████▎    | 266/500 [04:40<04:06,  1.05s/it]\n"
     ]
    },
    {
     "ename": "KeyboardInterrupt",
     "evalue": "",
     "output_type": "error",
     "traceback": [
      "\u001B[1;31m---------------------------------------------------------------------------\u001B[0m",
      "\u001B[1;31mKeyboardInterrupt\u001B[0m                         Traceback (most recent call last)",
      "Cell \u001B[1;32mIn[30], line 10\u001B[0m\n\u001B[0;32m      8\u001B[0m         \u001B[39mcontinue\u001B[39;00m\n\u001B[0;32m      9\u001B[0m     sentence \u001B[39m=\u001B[39m ru_all[indexes[i]]\n\u001B[1;32m---> 10\u001B[0m     translation \u001B[39m=\u001B[39m model\u001B[39m.\u001B[39;49mtranslate(sentence, source_lang\u001B[39m=\u001B[39;49m\u001B[39m'\u001B[39;49m\u001B[39mru\u001B[39;49m\u001B[39m'\u001B[39;49m, target_lang\u001B[39m=\u001B[39;49m\u001B[39m'\u001B[39;49m\u001B[39men\u001B[39;49m\u001B[39m'\u001B[39;49m, beam_size\u001B[39m=\u001B[39;49m\u001B[39m10\u001B[39;49m, max_length\u001B[39m=\u001B[39;49m\u001B[39m200\u001B[39;49m)\n\u001B[0;32m     11\u001B[0m     translated_all[indexes[i]] \u001B[39m=\u001B[39m translation\n\u001B[0;32m     13\u001B[0m \u001B[39mwith\u001B[39;00m \u001B[39mopen\u001B[39m(filename_translated_all, \u001B[39m'\u001B[39m\u001B[39mw\u001B[39m\u001B[39m'\u001B[39m, encoding\u001B[39m=\u001B[39m\u001B[39m\"\u001B[39m\u001B[39mutf-8\u001B[39m\u001B[39m\"\u001B[39m) \u001B[39mas\u001B[39;00m f:\n",
      "File \u001B[1;32mc:\\Users\\warri\\PycharmProjects\\translational_variability\\venv\\lib\\site-packages\\easynmt\\EasyNMT.py:181\u001B[0m, in \u001B[0;36mEasyNMT.translate\u001B[1;34m(self, documents, target_lang, source_lang, show_progress_bar, beam_size, batch_size, perform_sentence_splitting, paragraph_split, sentence_splitter, document_language_detection, **kwargs)\u001B[0m\n\u001B[0;32m    177\u001B[0m     sent2doc\u001B[39m.\u001B[39mappend(\u001B[39mlen\u001B[39m(splitted_sentences))\n\u001B[0;32m    178\u001B[0m \u001B[39m#logger.info(\"Sentence splitting done after: {:.2f} sec\".format(time.time() - start_time))\u001B[39;00m\n\u001B[0;32m    179\u001B[0m \u001B[39m#logger.info(\"Translate {} sentences\".format(len(splitted_sentences)))\u001B[39;00m\n\u001B[1;32m--> 181\u001B[0m translated_sentences \u001B[39m=\u001B[39m \u001B[39mself\u001B[39m\u001B[39m.\u001B[39mtranslate_sentences(splitted_sentences, target_lang\u001B[39m=\u001B[39mtarget_lang, source_lang\u001B[39m=\u001B[39msource_lang, show_progress_bar\u001B[39m=\u001B[39mshow_progress_bar, beam_size\u001B[39m=\u001B[39mbeam_size, batch_size\u001B[39m=\u001B[39mbatch_size, \u001B[39m*\u001B[39m\u001B[39m*\u001B[39mkwargs)\n\u001B[0;32m    183\u001B[0m \u001B[39m# Merge sentences back to documents\u001B[39;00m\n\u001B[0;32m    184\u001B[0m start_time \u001B[39m=\u001B[39m time\u001B[39m.\u001B[39mtime()\n",
      "File \u001B[1;32mc:\\Users\\warri\\PycharmProjects\\translational_variability\\venv\\lib\\site-packages\\easynmt\\EasyNMT.py:278\u001B[0m, in \u001B[0;36mEasyNMT.translate_sentences\u001B[1;34m(self, sentences, target_lang, source_lang, show_progress_bar, beam_size, batch_size, **kwargs)\u001B[0m\n\u001B[0;32m    275\u001B[0m     iterator \u001B[39m=\u001B[39m tqdm\u001B[39m.\u001B[39mtqdm(iterator, total\u001B[39m=\u001B[39m\u001B[39mlen\u001B[39m(sentences)\u001B[39m/\u001B[39mscale, unit_scale\u001B[39m=\u001B[39mscale, smoothing\u001B[39m=\u001B[39m\u001B[39m0\u001B[39m)\n\u001B[0;32m    277\u001B[0m \u001B[39mfor\u001B[39;00m start_idx \u001B[39min\u001B[39;00m iterator:\n\u001B[1;32m--> 278\u001B[0m     output\u001B[39m.\u001B[39mextend(\u001B[39mself\u001B[39m\u001B[39m.\u001B[39mtranslator\u001B[39m.\u001B[39mtranslate_sentences(sentences_sorted[start_idx:start_idx\u001B[39m+\u001B[39mbatch_size], source_lang\u001B[39m=\u001B[39msource_lang, target_lang\u001B[39m=\u001B[39mtarget_lang, beam_size\u001B[39m=\u001B[39mbeam_size, device\u001B[39m=\u001B[39m\u001B[39mself\u001B[39m\u001B[39m.\u001B[39mdevice, \u001B[39m*\u001B[39m\u001B[39m*\u001B[39mkwargs))\n\u001B[0;32m    280\u001B[0m \u001B[39m#Restore original sorting of sentences\u001B[39;00m\n\u001B[0;32m    281\u001B[0m output \u001B[39m=\u001B[39m [output[idx] \u001B[39mfor\u001B[39;00m idx \u001B[39min\u001B[39;00m np\u001B[39m.\u001B[39margsort(length_sorted_idx)]\n",
      "File \u001B[1;32mc:\\Users\\warri\\PycharmProjects\\translational_variability\\venv\\lib\\site-packages\\easynmt\\models\\OpusMT.py:49\u001B[0m, in \u001B[0;36mOpusMT.translate_sentences\u001B[1;34m(self, sentences, source_lang, target_lang, device, beam_size, **kwargs)\u001B[0m\n\u001B[0;32m     46\u001B[0m     inputs[key] \u001B[39m=\u001B[39m inputs[key]\u001B[39m.\u001B[39mto(device)\n\u001B[0;32m     48\u001B[0m \u001B[39mwith\u001B[39;00m torch\u001B[39m.\u001B[39mno_grad():\n\u001B[1;32m---> 49\u001B[0m     translated \u001B[39m=\u001B[39m model\u001B[39m.\u001B[39mgenerate(\u001B[39m*\u001B[39m\u001B[39m*\u001B[39minputs, num_beams\u001B[39m=\u001B[39mbeam_size, \u001B[39m*\u001B[39m\u001B[39m*\u001B[39mkwargs)\n\u001B[0;32m     50\u001B[0m     output \u001B[39m=\u001B[39m [tokenizer\u001B[39m.\u001B[39mdecode(t, skip_special_tokens\u001B[39m=\u001B[39m\u001B[39mTrue\u001B[39;00m) \u001B[39mfor\u001B[39;00m t \u001B[39min\u001B[39;00m translated]\n\u001B[0;32m     52\u001B[0m \u001B[39mreturn\u001B[39;00m output\n",
      "File \u001B[1;32mc:\\Users\\warri\\PycharmProjects\\translational_variability\\venv\\lib\\site-packages\\torch\\utils\\_contextlib.py:115\u001B[0m, in \u001B[0;36mcontext_decorator.<locals>.decorate_context\u001B[1;34m(*args, **kwargs)\u001B[0m\n\u001B[0;32m    112\u001B[0m \u001B[39m@functools\u001B[39m\u001B[39m.\u001B[39mwraps(func)\n\u001B[0;32m    113\u001B[0m \u001B[39mdef\u001B[39;00m \u001B[39mdecorate_context\u001B[39m(\u001B[39m*\u001B[39margs, \u001B[39m*\u001B[39m\u001B[39m*\u001B[39mkwargs):\n\u001B[0;32m    114\u001B[0m     \u001B[39mwith\u001B[39;00m ctx_factory():\n\u001B[1;32m--> 115\u001B[0m         \u001B[39mreturn\u001B[39;00m func(\u001B[39m*\u001B[39margs, \u001B[39m*\u001B[39m\u001B[39m*\u001B[39mkwargs)\n",
      "File \u001B[1;32mc:\\Users\\warri\\PycharmProjects\\translational_variability\\venv\\lib\\site-packages\\transformers\\generation\\utils.py:1490\u001B[0m, in \u001B[0;36mGenerationMixin.generate\u001B[1;34m(self, inputs, generation_config, logits_processor, stopping_criteria, prefix_allowed_tokens_fn, synced_gpus, **kwargs)\u001B[0m\n\u001B[0;32m   1483\u001B[0m     input_ids, model_kwargs \u001B[39m=\u001B[39m \u001B[39mself\u001B[39m\u001B[39m.\u001B[39m_expand_inputs_for_generation(\n\u001B[0;32m   1484\u001B[0m         input_ids\u001B[39m=\u001B[39minput_ids,\n\u001B[0;32m   1485\u001B[0m         expand_size\u001B[39m=\u001B[39mgeneration_config\u001B[39m.\u001B[39mnum_beams,\n\u001B[0;32m   1486\u001B[0m         is_encoder_decoder\u001B[39m=\u001B[39m\u001B[39mself\u001B[39m\u001B[39m.\u001B[39mconfig\u001B[39m.\u001B[39mis_encoder_decoder,\n\u001B[0;32m   1487\u001B[0m         \u001B[39m*\u001B[39m\u001B[39m*\u001B[39mmodel_kwargs,\n\u001B[0;32m   1488\u001B[0m     )\n\u001B[0;32m   1489\u001B[0m     \u001B[39m# 13. run beam search\u001B[39;00m\n\u001B[1;32m-> 1490\u001B[0m     \u001B[39mreturn\u001B[39;00m \u001B[39mself\u001B[39m\u001B[39m.\u001B[39mbeam_search(\n\u001B[0;32m   1491\u001B[0m         input_ids,\n\u001B[0;32m   1492\u001B[0m         beam_scorer,\n\u001B[0;32m   1493\u001B[0m         logits_processor\u001B[39m=\u001B[39mlogits_processor,\n\u001B[0;32m   1494\u001B[0m         stopping_criteria\u001B[39m=\u001B[39mstopping_criteria,\n\u001B[0;32m   1495\u001B[0m         pad_token_id\u001B[39m=\u001B[39mgeneration_config\u001B[39m.\u001B[39mpad_token_id,\n\u001B[0;32m   1496\u001B[0m         eos_token_id\u001B[39m=\u001B[39mgeneration_config\u001B[39m.\u001B[39meos_token_id,\n\u001B[0;32m   1497\u001B[0m         output_scores\u001B[39m=\u001B[39mgeneration_config\u001B[39m.\u001B[39moutput_scores,\n\u001B[0;32m   1498\u001B[0m         return_dict_in_generate\u001B[39m=\u001B[39mgeneration_config\u001B[39m.\u001B[39mreturn_dict_in_generate,\n\u001B[0;32m   1499\u001B[0m         synced_gpus\u001B[39m=\u001B[39msynced_gpus,\n\u001B[0;32m   1500\u001B[0m         \u001B[39m*\u001B[39m\u001B[39m*\u001B[39mmodel_kwargs,\n\u001B[0;32m   1501\u001B[0m     )\n\u001B[0;32m   1503\u001B[0m \u001B[39melif\u001B[39;00m is_beam_sample_gen_mode:\n\u001B[0;32m   1504\u001B[0m     \u001B[39m# 11. prepare logits warper\u001B[39;00m\n\u001B[0;32m   1505\u001B[0m     logits_warper \u001B[39m=\u001B[39m \u001B[39mself\u001B[39m\u001B[39m.\u001B[39m_get_logits_warper(generation_config)\n",
      "File \u001B[1;32mc:\\Users\\warri\\PycharmProjects\\translational_variability\\venv\\lib\\site-packages\\transformers\\generation\\utils.py:2764\u001B[0m, in \u001B[0;36mGenerationMixin.beam_search\u001B[1;34m(self, input_ids, beam_scorer, logits_processor, stopping_criteria, max_length, pad_token_id, eos_token_id, output_attentions, output_hidden_states, output_scores, return_dict_in_generate, synced_gpus, **model_kwargs)\u001B[0m\n\u001B[0;32m   2761\u001B[0m \u001B[39m# hack: adjust tokens for Marian. For Marian we have to make sure that the `pad_token_id`\u001B[39;00m\n\u001B[0;32m   2762\u001B[0m \u001B[39m# cannot be generated both before and after the `nn.functional.log_softmax` operation.\u001B[39;00m\n\u001B[0;32m   2763\u001B[0m next_token_logits \u001B[39m=\u001B[39m \u001B[39mself\u001B[39m\u001B[39m.\u001B[39madjust_logits_during_generation(next_token_logits, cur_len\u001B[39m=\u001B[39mcur_len)\n\u001B[1;32m-> 2764\u001B[0m next_token_scores \u001B[39m=\u001B[39m nn\u001B[39m.\u001B[39;49mfunctional\u001B[39m.\u001B[39;49mlog_softmax(\n\u001B[0;32m   2765\u001B[0m     next_token_logits, dim\u001B[39m=\u001B[39;49m\u001B[39m-\u001B[39;49m\u001B[39m1\u001B[39;49m\n\u001B[0;32m   2766\u001B[0m )  \u001B[39m# (batch_size * num_beams, vocab_size)\u001B[39;00m\n\u001B[0;32m   2768\u001B[0m next_token_scores_processed \u001B[39m=\u001B[39m logits_processor(input_ids, next_token_scores)\n\u001B[0;32m   2769\u001B[0m next_token_scores \u001B[39m=\u001B[39m next_token_scores_processed \u001B[39m+\u001B[39m beam_scores[:, \u001B[39mNone\u001B[39;00m]\u001B[39m.\u001B[39mexpand_as(next_token_scores)\n",
      "File \u001B[1;32mc:\\Users\\warri\\PycharmProjects\\translational_variability\\venv\\lib\\site-packages\\torch\\nn\\functional.py:1932\u001B[0m, in \u001B[0;36mlog_softmax\u001B[1;34m(input, dim, _stacklevel, dtype)\u001B[0m\n\u001B[0;32m   1930\u001B[0m     dim \u001B[39m=\u001B[39m _get_softmax_dim(\u001B[39m\"\u001B[39m\u001B[39mlog_softmax\u001B[39m\u001B[39m\"\u001B[39m, \u001B[39minput\u001B[39m\u001B[39m.\u001B[39mdim(), _stacklevel)\n\u001B[0;32m   1931\u001B[0m \u001B[39mif\u001B[39;00m dtype \u001B[39mis\u001B[39;00m \u001B[39mNone\u001B[39;00m:\n\u001B[1;32m-> 1932\u001B[0m     ret \u001B[39m=\u001B[39m \u001B[39minput\u001B[39;49m\u001B[39m.\u001B[39;49mlog_softmax(dim)\n\u001B[0;32m   1933\u001B[0m \u001B[39melse\u001B[39;00m:\n\u001B[0;32m   1934\u001B[0m     ret \u001B[39m=\u001B[39m \u001B[39minput\u001B[39m\u001B[39m.\u001B[39mlog_softmax(dim, dtype\u001B[39m=\u001B[39mdtype)\n",
      "\u001B[1;31mKeyboardInterrupt\u001B[0m: "
     ]
    }
   ],
   "source": [
    "chunk_size = 500\n",
    "latest_chunk = 0\n",
    "\n",
    "for chunk_start in range(latest_chunk, len(indexes), chunk_size):\n",
    "\n",
    "    for i in tqdm(range(chunk_start, min(chunk_start + chunk_size, len(indexes)))):\n",
    "        if translated_all[indexes[i]] != \"\":\n",
    "            continue\n",
    "        sentence = ru_all[indexes[i]]\n",
    "        translation = model.translate(sentence, source_lang='ru', target_lang='en', beam_size=10, max_length=200)\n",
    "        translated_all[indexes[i]] = translation\n",
    "\n",
    "    with open(filename_translated_all, 'w', encoding=\"utf-8\") as f:\n",
    "        for line in translated_all:\n",
    "            f.write(line)\n",
    "            f.write('\\n')"
   ]
  },
  {
   "cell_type": "code",
   "execution_count": 51,
   "metadata": {
    "ExecuteTime": {
     "end_time": "2023-05-02T17:09:48.363756Z",
     "start_time": "2023-05-02T17:09:48.348124Z"
    },
    "collapsed": false
   },
   "outputs": [
    {
     "data": {
      "text/plain": [
       "['ab',\n",
       " '',\n",
       " '',\n",
       " '',\n",
       " '',\n",
       " '10',\n",
       " '',\n",
       " '',\n",
       " '',\n",
       " 'ff',\n",
       " '',\n",
       " '',\n",
       " '',\n",
       " '',\n",
       " '',\n",
       " '',\n",
       " '',\n",
       " '',\n",
       " '',\n",
       " '']"
      ]
     },
     "execution_count": 51,
     "metadata": {},
     "output_type": "execute_result"
    }
   ],
   "source": [
    "translated_all[:20]"
   ]
  },
  {
   "cell_type": "code",
   "execution_count": 53,
   "metadata": {
    "ExecuteTime": {
     "end_time": "2023-05-02T17:11:05.283645Z",
     "start_time": "2023-05-02T17:11:04.796395Z"
    },
    "collapsed": false
   },
   "outputs": [],
   "source": [
    "with open(filename_translated_all, 'w', encoding=\"utf-8\") as f:\n",
    "    for line in translated_all:\n",
    "        f.write(line)\n",
    "        f.write('\\n')"
   ]
  },
  {
   "cell_type": "markdown",
   "metadata": {
    "collapsed": false
   },
   "source": [
    "выравнивание"
   ]
  },
  {
   "cell_type": "markdown",
   "metadata": {
    "collapsed": false
   },
   "source": [
    "дамп доков"
   ]
  },
  {
   "cell_type": "code",
   "execution_count": 11,
   "metadata": {
    "ExecuteTime": {
     "end_time": "2023-05-03T01:01:50.632966Z",
     "start_time": "2023-05-03T01:01:48.263688Z"
    },
    "collapsed": false
   },
   "outputs": [],
   "source": [
    "en_nlp_lg = spacy.load(\"en_core_web_lg\")"
   ]
  },
  {
   "cell_type": "code",
   "execution_count": 12,
   "metadata": {
    "ExecuteTime": {
     "end_time": "2023-05-03T01:06:57.823556Z",
     "start_time": "2023-05-03T01:06:57.764869Z"
    },
    "collapsed": false
   },
   "outputs": [
    {
     "data": {
      "text/plain": [
       "900000"
      ]
     },
     "execution_count": 12,
     "metadata": {},
     "output_type": "execute_result"
    }
   ],
   "source": [
    "len(translated_all)"
   ]
  },
  {
   "cell_type": "code",
   "execution_count": 13,
   "metadata": {
    "ExecuteTime": {
     "end_time": "2023-05-03T01:10:41.140262Z",
     "start_time": "2023-05-03T01:08:47.181573Z"
    },
    "collapsed": false
   },
   "outputs": [
    {
     "name": "stderr",
     "output_type": "stream",
     "text": [
      "100%|██████████| 900000/900000 [04:24<00:00, 3396.59it/s]\n",
      "100%|██████████| 900000/900000 [00:20<00:00, 43743.95it/s]\n"
     ]
    }
   ],
   "source": [
    "empty = en_nlp_lg(\"\")\n",
    "\n",
    "docs = []\n",
    "\n",
    "for sentence in tqdm(translated_all):\n",
    "    if sentence == \"\":\n",
    "        docs.append(empty)\n",
    "    else:\n",
    "        spacy_doc = en_nlp_lg(sentence)\n",
    "        docs.append(spacy_doc)\n",
    "\n",
    "doc_bin = DocBin()\n",
    "for doc in tqdm(docs):\n",
    "    doc_bin.add(doc)\n",
    "bytes_data = doc_bin.to_bytes()\n",
    "\n",
    "with open(\"corpora/subtitles/translations/opus10_spacy.bin\", \"wb\") as file:\n",
    "    file.write(bytes_data)"
   ]
  },
  {
   "cell_type": "code",
   "execution_count": 38,
   "metadata": {
    "ExecuteTime": {
     "end_time": "2023-05-03T01:27:03.530103Z",
     "start_time": "2023-05-03T01:27:03.520060Z"
    },
    "collapsed": false
   },
   "outputs": [],
   "source": [
    "folder_name = \"corpora/subtitles/translations\"\n",
    "fname_mwmf = f\"{folder_name}/mwmf\"\n",
    "fname_itermax = f\"{folder_name}/itermax\"\n",
    "fname_inter = f\"{folder_name}/inter\""
   ]
  },
  {
   "cell_type": "code",
   "execution_count": 39,
   "metadata": {
    "collapsed": false
   },
   "outputs": [],
   "source": [
    "with open(fname_mwmf, \"rt\", encoding=\"utf-8\") as f:\n",
    "    mwmf = [line.rstrip() for line in f.readlines()]\n",
    "with open(fname_itermax, \"rt\", encoding=\"utf-8\") as f:\n",
    "    itermax = [line.rstrip() for line in f.readlines()]\n",
    "with open(fname_inter, \"rt\", encoding=\"utf-8\") as f:\n",
    "    inter = [line.rstrip() for line in f.readlines()]"
   ]
  },
  {
   "cell_type": "code",
   "execution_count": 27,
   "metadata": {
    "ExecuteTime": {
     "end_time": "2023-05-03T01:10:53.235642Z",
     "start_time": "2023-05-03T01:10:53.103184Z"
    },
    "collapsed": false
   },
   "outputs": [],
   "source": [
    "mwmf = [\"\" for _ in range(900000)]\n",
    "itermax = [\"\" for _ in range(900000)]\n",
    "inter = [\"\" for _ in range(900000)]"
   ]
  },
  {
   "cell_type": "code",
   "execution_count": 17,
   "metadata": {
    "ExecuteTime": {
     "end_time": "2023-05-03T01:10:59.567928Z",
     "start_time": "2023-05-03T01:10:59.552275Z"
    },
    "collapsed": false
   },
   "outputs": [],
   "source": [
    "translated_all_docs = docs"
   ]
  },
  {
   "cell_type": "code",
   "execution_count": 35,
   "metadata": {
    "ExecuteTime": {
     "end_time": "2023-05-03T01:12:19.376093Z",
     "start_time": "2023-05-03T01:12:15.219231Z"
    },
    "collapsed": false
   },
   "outputs": [
    {
     "name": "stderr",
     "output_type": "stream",
     "text": [
      "Some weights of the model checkpoint at bert-base-multilingual-cased were not used when initializing BertModel: ['cls.predictions.transform.dense.bias', 'cls.predictions.decoder.weight', 'cls.predictions.transform.LayerNorm.weight', 'cls.seq_relationship.weight', 'cls.predictions.transform.dense.weight', 'cls.seq_relationship.bias', 'cls.predictions.transform.LayerNorm.bias', 'cls.predictions.bias']\n",
      "- This IS expected if you are initializing BertModel from the checkpoint of a model trained on another task or with another architecture (e.g. initializing a BertForSequenceClassification model from a BertForPreTraining model).\n",
      "- This IS NOT expected if you are initializing BertModel from the checkpoint of a model that you expect to be exactly identical (initializing a BertForSequenceClassification model from a BertForSequenceClassification model).\n",
      "2023-05-04 19:19:58,710 - simalign.simalign - INFO - Initialized the EmbeddingLoader with model: bert-base-multilingual-cased\n"
     ]
    }
   ],
   "source": [
    "from simalign import SentenceAligner\n",
    "myaligner = SentenceAligner(model=\"bert\", token_type=\"bpe\", matching_methods=\"mai\")"
   ]
  },
  {
   "cell_type": "code",
   "execution_count": 21,
   "metadata": {
    "collapsed": false
   },
   "outputs": [
    {
     "name": "stderr",
     "output_type": "stream",
     "text": [
      "100%|██████████| 20000/20000 [01:51<00:00, 180.08it/s]\n",
      "100%|██████████| 20000/20000 [01:41<00:00, 196.78it/s]\n",
      "100%|██████████| 20000/20000 [01:30<00:00, 221.43it/s]\n",
      "100%|██████████| 20000/20000 [01:43<00:00, 193.37it/s] \n",
      "100%|██████████| 20000/20000 [01:29<00:00, 223.95it/s] \n",
      "100%|██████████| 20000/20000 [01:23<00:00, 239.34it/s]\n",
      "100%|██████████| 20000/20000 [01:29<00:00, 222.64it/s]\n",
      "100%|██████████| 20000/20000 [01:29<00:00, 222.68it/s] \n",
      "100%|██████████| 20000/20000 [01:23<00:00, 239.95it/s] \n",
      "100%|██████████| 20000/20000 [01:17<00:00, 259.64it/s] \n",
      "100%|██████████| 20000/20000 [01:41<00:00, 197.82it/s]\n",
      "100%|██████████| 20000/20000 [02:09<00:00, 154.52it/s]\n",
      "100%|██████████| 20000/20000 [01:52<00:00, 178.41it/s]\n",
      "100%|██████████| 20000/20000 [02:20<00:00, 142.16it/s] \n",
      "100%|██████████| 20000/20000 [01:39<00:00, 200.73it/s]\n",
      "100%|██████████| 20000/20000 [01:53<00:00, 176.27it/s]\n",
      "100%|██████████| 20000/20000 [02:01<00:00, 164.04it/s]\n",
      "100%|██████████| 20000/20000 [02:00<00:00, 166.02it/s]\n",
      "100%|██████████| 20000/20000 [01:45<00:00, 189.21it/s]\n",
      "100%|██████████| 20000/20000 [01:49<00:00, 182.09it/s]\n",
      "100%|██████████| 20000/20000 [01:17<00:00, 257.48it/s]\n",
      "100%|██████████| 20000/20000 [01:32<00:00, 215.21it/s]\n",
      "100%|██████████| 20000/20000 [01:20<00:00, 249.12it/s]\n",
      "100%|██████████| 20000/20000 [01:43<00:00, 194.00it/s]\n",
      "100%|██████████| 20000/20000 [02:05<00:00, 159.79it/s]\n",
      "100%|██████████| 20000/20000 [01:55<00:00, 173.70it/s]\n",
      "100%|██████████| 20000/20000 [01:51<00:00, 180.04it/s]\n",
      "100%|██████████| 20000/20000 [01:37<00:00, 206.04it/s]\n",
      "100%|██████████| 20000/20000 [01:26<00:00, 230.30it/s]\n",
      "100%|██████████| 20000/20000 [01:16<00:00, 262.44it/s]\n",
      "100%|██████████| 20000/20000 [02:08<00:00, 155.14it/s]\n",
      "100%|██████████| 20000/20000 [02:16<00:00, 146.87it/s]\n",
      "100%|██████████| 20000/20000 [01:40<00:00, 198.14it/s]\n",
      "100%|██████████| 20000/20000 [02:36<00:00, 128.20it/s]\n",
      "100%|██████████| 20000/20000 [01:53<00:00, 175.82it/s]\n",
      "100%|██████████| 20000/20000 [01:43<00:00, 193.53it/s]\n",
      "100%|██████████| 20000/20000 [02:11<00:00, 151.77it/s]\n",
      "100%|██████████| 20000/20000 [01:29<00:00, 223.34it/s] \n",
      "100%|██████████| 20000/20000 [01:59<00:00, 167.56it/s]\n",
      "100%|██████████| 20000/20000 [01:44<00:00, 192.03it/s]\n",
      "100%|██████████| 20000/20000 [01:25<00:00, 233.32it/s]\n",
      "100%|██████████| 20000/20000 [01:27<00:00, 227.47it/s]\n",
      "100%|██████████| 20000/20000 [01:47<00:00, 185.50it/s]\n",
      "100%|██████████| 20000/20000 [01:48<00:00, 184.63it/s]\n",
      "100%|██████████| 20000/20000 [01:41<00:00, 196.16it/s]\n"
     ]
    }
   ],
   "source": [
    "chunk_size = 20000\n",
    "latest_chunk = 0\n",
    "for chunk_start in range(latest_chunk, 900000, chunk_size):\n",
    "\n",
    "    for i in tqdm(range(chunk_start, chunk_start + chunk_size)):\n",
    "        if translated_all[i] == \"\":\n",
    "            continue\n",
    "        if mwmf[i] != \"\":\n",
    "            continue\n",
    "        ru_tokens = [token.text for token in ru_all_docs[i]]\n",
    "        translated_tokens = [token.text for token in translated_all_docs[i]]\n",
    "        # print(f\"{ru_tokens}\\n{translated_tokens}\\n\")\n",
    "        src, trg = (ru_tokens, translated_tokens)\n",
    "        alignments = myaligner.get_word_aligns(src, trg)\n",
    "        mwmf[i] = \" \".join([f\"{x}-{y}\" for x, y in alignments[\"mwmf\"]])\n",
    "        itermax[i] = \" \".join([f\"{x}-{y}\" for x, y in alignments[\"itermax\"]])\n",
    "        inter[i] = \" \".join([f\"{x}-{y}\" for x, y in alignments[\"inter\"]])\n",
    "\n",
    "    with open(fname_mwmf, 'w', encoding=\"utf-8\") as f:\n",
    "        for line in mwmf:\n",
    "            f.write(line)\n",
    "            f.write('\\n')\n",
    "\n",
    "    with open(fname_itermax, 'w', encoding=\"utf-8\") as f:\n",
    "        for line in itermax:\n",
    "            f.write(line)\n",
    "            f.write('\\n')\n",
    "\n",
    "    with open(fname_inter, 'w', encoding=\"utf-8\") as f:\n",
    "        for line in inter:\n",
    "            f.write(line)\n",
    "            f.write('\\n')"
   ]
  },
  {
   "attachments": {},
   "cell_type": "markdown",
   "metadata": {
    "collapsed": false
   },
   "source": [
    "merge two translations from different laptops"
   ]
  },
  {
   "cell_type": "code",
   "execution_count": 31,
   "metadata": {},
   "outputs": [
    {
     "data": {
      "text/plain": [
       "900000"
      ]
     },
     "execution_count": 31,
     "metadata": {},
     "output_type": "execute_result"
    }
   ],
   "source": [
    "filename_another_translated_all = \"translations_to_merge/translations/opus10_whole.txt\"\n",
    "with open(filename_translated_all, \"rt\", encoding=\"utf-8\") as f:\n",
    "    another_translated_all = [line.rstrip() for line in f.readlines()]\n",
    "len(another_translated_all)"
   ]
  },
  {
   "cell_type": "code",
   "execution_count": 36,
   "metadata": {},
   "outputs": [],
   "source": [
    "another_folder_name = \"translations_to_merge/translations\"\n",
    "another_fname_mwmf = f\"{folder_name}/mwmf\"\n",
    "another_fname_itermax = f\"{folder_name}/itermax\"\n",
    "another_fname_inter = f\"{folder_name}/inter\""
   ]
  },
  {
   "cell_type": "code",
   "execution_count": 40,
   "metadata": {},
   "outputs": [],
   "source": [
    "with open(another_fname_mwmf, \"rt\", encoding=\"utf-8\") as f:\n",
    "    another_mwmf = [line.rstrip() for line in f.readlines()]\n",
    "with open(another_fname_itermax, \"rt\", encoding=\"utf-8\") as f:\n",
    "    another_itermax = [line.rstrip() for line in f.readlines()]\n",
    "with open(another_fname_inter, \"rt\", encoding=\"utf-8\") as f:\n",
    "    another_inter = [line.rstrip() for line in f.readlines()]"
   ]
  },
  {
   "cell_type": "code",
   "execution_count": 32,
   "metadata": {},
   "outputs": [],
   "source": [
    "for i in range(len(translated_all)):\n",
    "    if translated_all[i] == \"\" and another_translated_all[i] != \"\":\n",
    "        translated_all[i] = another_translated_all[i] "
   ]
  },
  {
   "cell_type": "code",
   "execution_count": 33,
   "metadata": {},
   "outputs": [],
   "source": [
    "with open(filename_translated_all, 'w', encoding=\"utf-8\") as f:\n",
    "    for line in translated_all:\n",
    "        f.write(line)\n",
    "        f.write('\\n')"
   ]
  },
  {
   "cell_type": "code",
   "execution_count": 41,
   "metadata": {},
   "outputs": [],
   "source": [
    "for i in range(len(mwmf)):\n",
    "    if mwmf[i] == \"\" and another_mwmf[i] != \"\":\n",
    "        mwmf[i] = another_mwmf[i] \n",
    "        itermax[i] = another_itermax[i]\n",
    "        inter[i] = another_inter[i]"
   ]
  },
  {
   "cell_type": "code",
   "execution_count": null,
   "metadata": {},
   "outputs": [],
   "source": [
    "with open(fname_mwmf, 'w', encoding=\"utf-8\") as f:\n",
    "    for line in mwmf:\n",
    "        f.write(line)\n",
    "        f.write('\\n')\n",
    "\n",
    "with open(fname_itermax, 'w', encoding=\"utf-8\") as f:\n",
    "    for line in itermax:\n",
    "        f.write(line)\n",
    "        f.write('\\n')\n",
    "\n",
    "with open(fname_inter, 'w', encoding=\"utf-8\") as f:\n",
    "    for line in inter:\n",
    "        f.write(line)\n",
    "        f.write('\\n')"
   ]
  }
 ],
 "metadata": {
  "kernelspec": {
   "display_name": "Python 3",
   "language": "python",
   "name": "python3"
  },
  "language_info": {
   "codemirror_mode": {
    "name": "ipython",
    "version": 3
   },
   "file_extension": ".py",
   "mimetype": "text/x-python",
   "name": "python",
   "nbconvert_exporter": "python",
   "pygments_lexer": "ipython3",
   "version": "3.9.7"
  }
 },
 "nbformat": 4,
 "nbformat_minor": 0
}
