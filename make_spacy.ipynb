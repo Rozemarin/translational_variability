{
 "cells": [
  {
   "attachments": {},
   "cell_type": "markdown",
   "metadata": {},
   "source": [
    "# Подготовка spacy документов (однопоточная версия, jupyter)"
   ]
  },
  {
   "cell_type": "code",
   "execution_count": 1,
   "metadata": {},
   "outputs": [],
   "source": [
    "import spacy\n",
    "from spacy.tokens import DocBin\n",
    "from tqdm import tqdm"
   ]
  },
  {
   "cell_type": "code",
   "execution_count": 2,
   "metadata": {},
   "outputs": [],
   "source": [
    "with open(\"corpora/subtitles/translations/opus10_spacy.bin\", \"rb\") as file:\n",
    "    en_translated_bytes_data = file.read()\n",
    "\n",
    "nlp = spacy.blank(\"en\")\n",
    "doc_bin_ = DocBin().from_bytes(en_translated_bytes_data)\n",
    "en_translated_docs = list(doc_bin_.get_docs(nlp.vocab))"
   ]
  },
  {
   "cell_type": "code",
   "execution_count": 3,
   "metadata": {},
   "outputs": [
    {
     "data": {
      "text/plain": [
       "900000"
      ]
     },
     "execution_count": 3,
     "metadata": {},
     "output_type": "execute_result"
    }
   ],
   "source": [
    "filename_translated_all = \"corpora/subtitles/translations/opus10_whole.txt\"\n",
    "with open(filename_translated_all, \"rt\", encoding=\"utf-8\") as f:\n",
    "    translated_all = [line.rstrip() for line in f.readlines()]\n",
    "len(translated_all)"
   ]
  },
  {
   "cell_type": "code",
   "execution_count": 2,
   "metadata": {},
   "outputs": [],
   "source": [
    "en_nlp_lg = spacy.load(\"en_core_web_lg\")"
   ]
  },
  {
   "cell_type": "code",
   "execution_count": null,
   "metadata": {},
   "outputs": [],
   "source": [
    "empty = en_nlp_lg(\"\")\n",
    "\n",
    "docs = []\n",
    "doc_bin = DocBin()\n",
    "\n",
    "for i, sentence in tqdm(enumerate(translated_all)):\n",
    "    doc_bin.add(en_nlp_lg(sentence))\n",
    "\n",
    "bytes_data = doc_bin.to_bytes()\n",
    "\n",
    "with open(\"corpora/subtitles/translations/opus10_spacy_final.bin\", \"wb\") as file:\n",
    "    file.write(bytes_data)"
   ]
  },
  {
   "cell_type": "code",
   "execution_count": 5,
   "metadata": {},
   "outputs": [
    {
     "name": "stderr",
     "output_type": "stream",
     "text": [
      "100it [00:00, 2378.55it/s]\n"
     ]
    }
   ],
   "source": [
    "empty = en_nlp_lg(\"\")\n",
    "\n",
    "docs = []\n",
    "doc_bin = DocBin()\n",
    "\n",
    "for i, sentence in tqdm(enumerate(translated_all)):\n",
    "    if i < 833000:\n",
    "        doc_bin.add(en_translated_docs[i])\n",
    "    else:\n",
    "        doc_bin.add(en_nlp_lg(sentence))\n",
    "        break\n",
    "\n",
    "bytes_data = doc_bin.to_bytes()\n",
    "\n",
    "with open(\"corpora/subtitles/translations/opus10_spacy_final.bin\", \"wb\") as file:\n",
    "    file.write(bytes_data)"
   ]
  }
 ],
 "metadata": {
  "kernelspec": {
   "display_name": "venv",
   "language": "python",
   "name": "python3"
  },
  "language_info": {
   "codemirror_mode": {
    "name": "ipython",
    "version": 3
   },
   "file_extension": ".py",
   "mimetype": "text/x-python",
   "name": "python",
   "nbconvert_exporter": "python",
   "pygments_lexer": "ipython3",
   "version": "3.9.7"
  },
  "orig_nbformat": 4
 },
 "nbformat": 4,
 "nbformat_minor": 2
}
