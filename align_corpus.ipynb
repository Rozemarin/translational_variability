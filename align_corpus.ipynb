{
 "cells": [
  {
   "cell_type": "code",
   "execution_count": 1,
   "metadata": {},
   "outputs": [],
   "source": [
    "# python -m venv .venv\n",
    "# source ./.venv/bin/activate\n",
    "# pip install ipykernel\n",
    "# ipython kernel install --user --name=translational_variability"
   ]
  },
  {
   "cell_type": "code",
   "execution_count": 2,
   "metadata": {},
   "outputs": [],
   "source": [
    "# ! pip install simalign\n",
    "# ! python3 -m spacy download en_core_web_lg\n",
    "# ! python3 -m spacy download ru_core_news_lg"
   ]
  },
  {
   "cell_type": "code",
   "execution_count": 3,
   "metadata": {},
   "outputs": [],
   "source": [
    "import spacy\n",
    "from pprint import pprint\n",
    "from tqdm import tqdm\n",
    "from simalign import SentenceAligner"
   ]
  },
  {
   "cell_type": "code",
   "execution_count": 4,
   "metadata": {},
   "outputs": [
    {
     "data": {
      "text/plain": [
       "['Анна Каренина',\n",
       " 'Толстой Лев Николаевич',\n",
       " 'Мне отмщение, и аз воздам',\n",
       " 'ЧАСТЬ ПЕРВАЯ',\n",
       " 'Все счастливые семьи похожи друг на друга, каждая несчастливая семья несчастлива по-своему.']"
      ]
     },
     "execution_count": 4,
     "metadata": {},
     "output_type": "execute_result"
    }
   ],
   "source": [
    "with open(\"./corpora/karenina/Books_ru.txt\", \"rt\", encoding=\"utf-8\") as file:\n",
    "    ru_corpus_raw = [line.rstrip() for line in file]\n",
    "\n",
    "ru_corpus_raw[:5]"
   ]
  },
  {
   "cell_type": "code",
   "execution_count": 5,
   "metadata": {},
   "outputs": [
    {
     "data": {
      "text/plain": [
       "['Anna Karenina',\n",
       " 'Leo Tolstoy',\n",
       " 'Vengeance is mine; I will repay.',\n",
       " 'VOLUME ONE PART I',\n",
       " 'ALL HAPPY FAMILIES resemble one another, but each unhappy family is unhappy in its own way.']"
      ]
     },
     "execution_count": 5,
     "metadata": {},
     "output_type": "execute_result"
    }
   ],
   "source": [
    "with open(\"./corpora/karenina/Books_en.txt\", \"rt\", encoding=\"utf-8\") as file:\n",
    "    en_corpus_raw = [line.rstrip() for line in file]\n",
    "\n",
    "en_corpus_raw[:5]"
   ]
  },
  {
   "cell_type": "code",
   "execution_count": 6,
   "metadata": {},
   "outputs": [
    {
     "name": "stderr",
     "output_type": "stream",
     "text": [
      "Some weights of the model checkpoint at bert-base-multilingual-cased were not used when initializing BertModel: ['cls.seq_relationship.weight', 'cls.predictions.transform.LayerNorm.weight', 'cls.predictions.transform.dense.weight', 'cls.predictions.decoder.weight', 'cls.predictions.transform.dense.bias', 'cls.seq_relationship.bias', 'cls.predictions.transform.LayerNorm.bias', 'cls.predictions.bias']\n",
      "- This IS expected if you are initializing BertModel from the checkpoint of a model trained on another task or with another architecture (e.g. initializing a BertForSequenceClassification model from a BertForPreTraining model).\n",
      "- This IS NOT expected if you are initializing BertModel from the checkpoint of a model that you expect to be exactly identical (initializing a BertForSequenceClassification model from a BertForSequenceClassification model).\n",
      "2023-01-13 22:56:40,668 - simalign.simalign - INFO - Initialized the EmbeddingLoader with model: bert-base-multilingual-cased\n"
     ]
    }
   ],
   "source": [
    "myaligner = SentenceAligner(model=\"bert\", token_type=\"bpe\", matching_methods=\"mai\")"
   ]
  },
  {
   "cell_type": "code",
   "execution_count": 7,
   "metadata": {},
   "outputs": [],
   "source": [
    "en_nlp_lg = spacy.load(\"en_core_web_lg\")\n",
    "ru_nlp_lg = spacy.load(\"ru_core_news_lg\")"
   ]
  },
  {
   "cell_type": "code",
   "execution_count": null,
   "metadata": {},
   "outputs": [],
   "source": [
    "ru_tokenizer = ru_nlp_lg.tokenizer\n",
    "en_tokenizer = en_nlp_lg.tokenizer"
   ]
  },
  {
   "cell_type": "code",
   "execution_count": null,
   "metadata": {},
   "outputs": [],
   "source": [
    "def spacy_format_to_list_of_str(spacy_tokens):\n",
    "    normal_tokens = []\n",
    "    for sentence in spacy_tokens:\n",
    "        list_sentence = []\n",
    "        for token in sentence:\n",
    "            list_sentence.append(str(token))\n",
    "        normal_tokens.append(list_sentence)\n",
    "    return normal_tokens"
   ]
  },
  {
   "cell_type": "code",
   "execution_count": null,
   "metadata": {},
   "outputs": [],
   "source": [
    "ru_tokens = [ru_tokenizer(sentence) for sentence in ru_corpus_raw]"
   ]
  },
  {
   "cell_type": "code",
   "execution_count": null,
   "metadata": {},
   "outputs": [],
   "source": [
    "en_tokens = [en_tokenizer(sentence) for sentence in en_corpus_raw]"
   ]
  },
  {
   "cell_type": "code",
   "execution_count": null,
   "metadata": {},
   "outputs": [],
   "source": [
    "ru_tokens = spacy_format_to_list_of_str(ru_tokens)\n",
    "en_tokens = spacy_format_to_list_of_str(en_tokens)"
   ]
  },
  {
   "cell_type": "code",
   "execution_count": null,
   "metadata": {},
   "outputs": [
    {
     "name": "stderr",
     "output_type": "stream",
     "text": [
      "100%|██████████| 17255/17255 [4:55:50<00:00,  1.03s/it]   \n"
     ]
    }
   ],
   "source": [
    "text = ''\n",
    "for i in tqdm(range(len(ru_tokens))):\n",
    "    src, trg = (ru_tokens[i], en_tokens[i])\n",
    "    alignments = myaligner.get_word_aligns(src, trg)\n",
    "    for first, second in alignments['itermax']:\n",
    "        text += f\"{src[first]}\\t{trg[second]}\\n\"\n",
    "    text += '\\n'"
   ]
  },
  {
   "cell_type": "code",
   "execution_count": null,
   "metadata": {},
   "outputs": [],
   "source": [
    "with open('aligned.txt', 'wt') as f:\n",
    "    f.write(text)"
   ]
  },
  {
   "cell_type": "code",
   "execution_count": null,
   "metadata": {},
   "outputs": [],
   "source": [
    "with open('karenina_aligned_data.txt', 'wt') as f:\n",
    "    f.write(text)"
   ]
  }
 ],
 "metadata": {
  "kernelspec": {
   "display_name": "Python 3",
   "language": "python",
   "name": "python3"
  },
  "language_info": {
   "name": "python",
   "version": "3.10.6 (main, Nov 14 2022, 16:10:14) [GCC 11.3.0]"
  },
  "orig_nbformat": 4,
  "vscode": {
   "interpreter": {
    "hash": "31f2aee4e71d21fbe5cf8b01ff0e069b9275f58929596ceb00d14d90e3e16cd6"
   }
  }
 },
 "nbformat": 4,
 "nbformat_minor": 2
}
