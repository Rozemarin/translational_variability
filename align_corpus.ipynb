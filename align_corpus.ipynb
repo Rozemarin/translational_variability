{
 "cells": [
  {
   "cell_type": "code",
   "execution_count": null,
   "metadata": {},
   "outputs": [],
   "source": [
    "# python -m venv .venv\n",
    "# source ./.venv/bin/activate\n",
    "# pip install ipykernel\n",
    "# ipython kernel install --user --name=translational_variability"
   ]
  },
  {
   "cell_type": "code",
   "execution_count": null,
   "metadata": {},
   "outputs": [],
   "source": [
    "# ! pip install simalign\n",
    "# ! python3 -m spacy download en_core_web_lg\n",
    "# ! python3 -m spacy download ru_core_news_lg"
   ]
  },
  {
   "cell_type": "code",
   "execution_count": 1,
   "metadata": {},
   "outputs": [],
   "source": [
    "import spacy\n",
    "from pprint import pprint\n",
    "from tqdm import tqdm\n",
    "from simalign import SentenceAligner"
   ]
  },
  {
   "cell_type": "code",
   "execution_count": 8,
   "metadata": {},
   "outputs": [
    {
     "data": {
      "text/plain": [
       "['Анна Каренина',\n",
       " 'Толстой Лев Николаевич',\n",
       " 'Мне отмщение, и аз воздам',\n",
       " 'ЧАСТЬ ПЕРВАЯ',\n",
       " 'Все счастливые семьи похожи друг на друга, каждая несчастливая семья несчастлива по-своему.']"
      ]
     },
     "execution_count": 8,
     "metadata": {},
     "output_type": "execute_result"
    }
   ],
   "source": [
    "with open(\"./corpora/karenina/Books_ru.txt\", \"rt\", encoding=\"utf-8\") as file:\n",
    "    ru_corpus_raw = [line.rstrip() for line in file]\n",
    "\n",
    "ru_corpus_raw[:5]"
   ]
  },
  {
   "cell_type": "code",
   "execution_count": 9,
   "metadata": {},
   "outputs": [
    {
     "data": {
      "text/plain": [
       "['Anna Karenina',\n",
       " 'Leo Tolstoy',\n",
       " 'Vengeance is mine; I will repay.',\n",
       " 'VOLUME ONE PART I',\n",
       " 'ALL HAPPY FAMILIES resemble one another, but each unhappy family is unhappy in its own way.']"
      ]
     },
     "execution_count": 9,
     "metadata": {},
     "output_type": "execute_result"
    }
   ],
   "source": [
    "with open(\"./corpora/karenina/Books_en.txt\", \"rt\", encoding=\"utf-8\") as file:\n",
    "    en_corpus_raw = [line.rstrip() for line in file]\n",
    "\n",
    "en_corpus_raw[:5]"
   ]
  },
  {
   "cell_type": "code",
   "execution_count": 10,
   "metadata": {},
   "outputs": [
    {
     "data": {
      "application/vnd.jupyter.widget-view+json": {
       "model_id": "10219441a8b846539aa9fd2ce1e754a6",
       "version_major": 2,
       "version_minor": 0
      },
      "text/plain": [
       "Downloading:   0%|          | 0.00/625 [00:00<?, ?B/s]"
      ]
     },
     "metadata": {},
     "output_type": "display_data"
    },
    {
     "data": {
      "application/vnd.jupyter.widget-view+json": {
       "model_id": "5f2bd7fb49ae48dbaf9b58bd2e619b4d",
       "version_major": 2,
       "version_minor": 0
      },
      "text/plain": [
       "Downloading:   0%|          | 0.00/714M [00:00<?, ?B/s]"
      ]
     },
     "metadata": {},
     "output_type": "display_data"
    },
    {
     "name": "stderr",
     "output_type": "stream",
     "text": [
      "Some weights of the model checkpoint at bert-base-multilingual-cased were not used when initializing BertModel: ['cls.predictions.decoder.weight', 'cls.predictions.transform.LayerNorm.bias', 'cls.seq_relationship.weight', 'cls.predictions.transform.LayerNorm.weight', 'cls.predictions.bias', 'cls.predictions.transform.dense.weight', 'cls.predictions.transform.dense.bias', 'cls.seq_relationship.bias']\n",
      "- This IS expected if you are initializing BertModel from the checkpoint of a model trained on another task or with another architecture (e.g. initializing a BertForSequenceClassification model from a BertForPreTraining model).\n",
      "- This IS NOT expected if you are initializing BertModel from the checkpoint of a model that you expect to be exactly identical (initializing a BertForSequenceClassification model from a BertForSequenceClassification model).\n"
     ]
    },
    {
     "data": {
      "application/vnd.jupyter.widget-view+json": {
       "model_id": "5f2702d1cd684b42b01e8285003505ad",
       "version_major": 2,
       "version_minor": 0
      },
      "text/plain": [
       "Downloading:   0%|          | 0.00/996k [00:00<?, ?B/s]"
      ]
     },
     "metadata": {},
     "output_type": "display_data"
    },
    {
     "data": {
      "application/vnd.jupyter.widget-view+json": {
       "model_id": "60f3510b297145e5a0dcd8e736c2ee87",
       "version_major": 2,
       "version_minor": 0
      },
      "text/plain": [
       "Downloading:   0%|          | 0.00/29.0 [00:00<?, ?B/s]"
      ]
     },
     "metadata": {},
     "output_type": "display_data"
    },
    {
     "name": "stderr",
     "output_type": "stream",
     "text": [
      "2023-01-04 21:21:47,299 - simalign.simalign - INFO - Initialized the EmbeddingLoader with model: bert-base-multilingual-cased\n"
     ]
    }
   ],
   "source": [
    "myaligner = SentenceAligner(model=\"bert\", token_type=\"bpe\", matching_methods=\"mai\")"
   ]
  },
  {
   "cell_type": "code",
   "execution_count": 23,
   "metadata": {},
   "outputs": [],
   "source": [
    "en_nlp_lg = spacy.load(\"en_core_web_lg\")\n",
    "ru_nlp_lg = spacy.load(\"ru_core_news_lg\")"
   ]
  },
  {
   "cell_type": "code",
   "execution_count": null,
   "metadata": {},
   "outputs": [],
   "source": [
    "ru_tokenizer = ru_nlp_lg.tokenizer\n",
    "en_tokenizer = en_nlp_lg.tokenizer"
   ]
  },
  {
   "cell_type": "code",
   "execution_count": 39,
   "metadata": {},
   "outputs": [],
   "source": [
    "def spacy_format_to_list_of_str(spacy_tokens):\n",
    "    normal_tokens = []\n",
    "    for sentence in spacy_tokens:\n",
    "        list_sentence = []\n",
    "        for token in sentence:\n",
    "            list_sentence.append(str(token))\n",
    "        normal_tokens.append(list_sentence)\n",
    "    return normal_tokens\n"
   ]
  },
  {
   "cell_type": "code",
   "execution_count": 56,
   "metadata": {},
   "outputs": [],
   "source": [
    "ru_tokens = [ru_tokenizer(sentence) for sentence in ru_corpus_raw]"
   ]
  },
  {
   "cell_type": "code",
   "execution_count": 57,
   "metadata": {},
   "outputs": [],
   "source": [
    "en_tokens = [en_tokenizer(sentence) for sentence in en_corpus_raw]"
   ]
  },
  {
   "cell_type": "code",
   "execution_count": 61,
   "metadata": {},
   "outputs": [],
   "source": [
    "ru_tokens = spacy_format_to_list_of_str(ru_tokens)\n",
    "en_tokens = spacy_format_to_list_of_str(en_tokens)"
   ]
  },
  {
   "cell_type": "code",
   "execution_count": 67,
   "metadata": {},
   "outputs": [
    {
     "name": "stderr",
     "output_type": "stream",
     "text": [
      "100%|██████████| 17255/17255 [4:55:50<00:00,  1.03s/it]   \n"
     ]
    }
   ],
   "source": [
    "text = ''\n",
    "for i in tqdm(range(len(ru_tokens))):\n",
    "    src, trg = (ru_tokens[i], en_tokens[i])\n",
    "    alignments = myaligner.get_word_aligns(src, trg)\n",
    "    for first, second in alignments['itermax']:\n",
    "        text += f\"{src[first]}\\t{trg[second]}\\n\"\n",
    "    text += '\\n'"
   ]
  },
  {
   "cell_type": "code",
   "execution_count": 68,
   "metadata": {},
   "outputs": [],
   "source": [
    "with open('aligned.txt', 'wt') as f:\n",
    "    f.write(text)"
   ]
  },
  {
   "cell_type": "code",
   "execution_count": 69,
   "metadata": {},
   "outputs": [],
   "source": [
    "with open('karenina_aligned_data.txt', 'wt') as f:\n",
    "    f.write(text)"
   ]
  }
 ],
 "metadata": {
  "kernelspec": {
   "display_name": "Python 3 (ipykernel)",
   "language": "python",
   "name": "python3"
  },
  "orig_nbformat": 4,
  "vscode": {
   "interpreter": {
    "hash": "52708d13624e56a584b7d58ee6170854b4c12ba8d86f72f2e2c25abac37ab8f7"
   }
  }
 },
 "nbformat": 4,
 "nbformat_minor": 2
}
