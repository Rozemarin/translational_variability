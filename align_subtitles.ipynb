{
 "cells": [
  {
   "cell_type": "code",
   "execution_count": 47,
   "metadata": {},
   "outputs": [],
   "source": [
    "import os\n",
    "from pprint import pprint"
   ]
  },
  {
   "attachments": {},
   "cell_type": "markdown",
   "metadata": {},
   "source": [
    "Запустить из консоли\n",
    "\n",
    "opus_read --directory OpenSubtitles --source en --target ru -m 900000 --write result.txt --src_range 1-4 --tgt_range 1-4\n",
    "\n",
    "https://github.com/Helsinki-NLP/OpusTools"
   ]
  },
  {
   "cell_type": "code",
   "execution_count": 48,
   "metadata": {},
   "outputs": [],
   "source": [
    "with open(\"corpora/subtitles/ru-en_0-900.txt\", \"rt\") as f:\n",
    "    text = f.read()\n",
    "\n",
    "data = text.split('================================')"
   ]
  },
  {
   "cell_type": "code",
   "execution_count": 49,
   "metadata": {},
   "outputs": [],
   "source": [
    "data = [item.strip() for item in data]\n",
    "\n",
    "ru = []\n",
    "en = []\n",
    "idx = 0\n",
    "for item in data:\n",
    "    if item.startswith('#') or not item:\n",
    "        continue\n",
    "    sentences = item.split('\\n')\n",
    "    src = []\n",
    "    trg = []\n",
    "    for sentence in sentences:\n",
    "        # print(idx, sentence)\n",
    "        if sentence.startswith(\"(src)\"):\n",
    "            trash, useful = sentence.split(\">\");\n",
    "            useful = useful.split();\n",
    "            src += useful\n",
    "        else:\n",
    "            trash, useful = sentence.split(\">\");\n",
    "            useful = useful.split();\n",
    "            trg += useful\n",
    "        idx += 1\n",
    "        \n",
    "    ru.append(src)\n",
    "    en.append(trg)\n"
   ]
  },
  {
   "cell_type": "code",
   "execution_count": 45,
   "metadata": {},
   "outputs": [
    {
     "name": "stdout",
     "output_type": "stream",
     "text": [
      "[['Дети',\n",
      "  'могут',\n",
      "  'достать',\n",
      "  'во',\n",
      "  'дворе',\n",
      "  'почти',\n",
      "  'всё',\n",
      "  'что',\n",
      "  'угодно',\n",
      "  'до',\n",
      "  'тех',\n",
      "  'пор',\n",
      "  ',',\n",
      "  'пока',\n",
      "  'могут',\n",
      "  'себе',\n",
      "  'это',\n",
      "  'позволить',\n",
      "  '.'],\n",
      " ['Всё', 'имеет', 'свою', 'цену', '.'],\n",
      " ['Эй', ',', 'Ник', '.']]\n"
     ]
    }
   ],
   "source": [
    "pprint(ru[:3])"
   ]
  },
  {
   "cell_type": "code",
   "execution_count": 46,
   "metadata": {},
   "outputs": [
    {
     "name": "stdout",
     "output_type": "stream",
     "text": [
      "[['Kids',\n",
      "  'can',\n",
      "  'get',\n",
      "  'pretty',\n",
      "  'much',\n",
      "  'anything',\n",
      "  'they',\n",
      "  'want',\n",
      "  'in',\n",
      "  'the',\n",
      "  'yard',\n",
      "  ',',\n",
      "  'as',\n",
      "  'long',\n",
      "  'as',\n",
      "  'they',\n",
      "  'can',\n",
      "  'afford',\n",
      "  'it',\n",
      "  '.'],\n",
      " [\"'Cause\", 'everything', 'comes', 'with', 'a', 'price', '.'],\n",
      " ['Hey', ',', 'Nick', '.']]\n"
     ]
    }
   ],
   "source": [
    "pprint(en[:3])"
   ]
  },
  {
   "cell_type": "code",
   "execution_count": 40,
   "metadata": {},
   "outputs": [],
   "source": [
    "import spacy\n",
    "from tqdm import tqdm\n",
    "from simalign import SentenceAligner"
   ]
  },
  {
   "cell_type": "code",
   "execution_count": 41,
   "metadata": {},
   "outputs": [
    {
     "name": "stderr",
     "output_type": "stream",
     "text": [
      "Some weights of the model checkpoint at bert-base-multilingual-cased were not used when initializing BertModel: ['cls.predictions.transform.dense.weight', 'cls.predictions.transform.LayerNorm.weight', 'cls.seq_relationship.bias', 'cls.seq_relationship.weight', 'cls.predictions.decoder.weight', 'cls.predictions.transform.LayerNorm.bias', 'cls.predictions.transform.dense.bias', 'cls.predictions.bias']\n",
      "- This IS expected if you are initializing BertModel from the checkpoint of a model trained on another task or with another architecture (e.g. initializing a BertForSequenceClassification model from a BertForPreTraining model).\n",
      "- This IS NOT expected if you are initializing BertModel from the checkpoint of a model that you expect to be exactly identical (initializing a BertForSequenceClassification model from a BertForSequenceClassification model).\n",
      "2023-01-13 22:17:08,273 - simalign.simalign - INFO - Initialized the EmbeddingLoader with model: bert-base-multilingual-cased\n"
     ]
    }
   ],
   "source": [
    "myaligner = SentenceAligner(model=\"bert\", token_type=\"bpe\", matching_methods=\"mai\")"
   ]
  },
  {
   "cell_type": "code",
   "execution_count": null,
   "metadata": {},
   "outputs": [],
   "source": [
    "chunk_size = 10000\n",
    "latest_chunk = 0\n",
    "for chunk_start in range(latest_chunk, len(ru), chunk_size):\n",
    "    text = \"\"\n",
    "    for i in tqdm(range(chunk_start, chunk_start + chunk_size)):\n",
    "        src, trg = (ru[i], en[i])\n",
    "        alignments = myaligner.get_word_aligns(src, trg)\n",
    "        for first, second in alignments['itermax']:\n",
    "            text += f\"{src[first]}\\t{trg[second]}\\n\"\n",
    "        text += '\\n'\n",
    "    \n",
    "    filename = f\"corpora/subtitles/aligned_{chunk_start}-{chunk_start + chunk_size - 1}\"\n",
    "    with open(filename, \"wt\") as f:\n",
    "        f.write(text)"
   ]
  }
 ],
 "metadata": {
  "kernelspec": {
   "display_name": "Python 3 (ipykernel)",
   "language": "python",
   "name": "python3"
  },
  "orig_nbformat": 4,
  "vscode": {
   "interpreter": {
    "hash": "916dbcbb3f70747c44a77c7bcd40155683ae19c65e1c03b4aa3499c5328201f1"
   }
  }
 },
 "nbformat": 4,
 "nbformat_minor": 2
}
