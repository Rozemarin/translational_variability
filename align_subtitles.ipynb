{
 "cells": [
  {
   "cell_type": "code",
   "execution_count": 1,
   "metadata": {
    "ExecuteTime": {
     "start_time": "2023-04-13T21:56:01.225695Z",
     "end_time": "2023-04-13T21:56:01.246442Z"
    }
   },
   "outputs": [],
   "source": [
    "import os\n",
    "from pprint import pprint"
   ]
  },
  {
   "attachments": {},
   "cell_type": "markdown",
   "metadata": {},
   "source": [
    "Запустить из консоли\n",
    "\n",
    "opus_read --directory OpenSubtitles --source en --target ru -m 900000 --write result.txt --src_range 1-4 --tgt_range 1-4\n",
    "\n",
    "https://github.com/Helsinki-NLP/OpusTools"
   ]
  },
  {
   "cell_type": "code",
   "execution_count": 2,
   "metadata": {
    "ExecuteTime": {
     "start_time": "2023-04-13T21:56:01.248822Z",
     "end_time": "2023-04-13T21:56:01.956582Z"
    }
   },
   "outputs": [],
   "source": [
    "with open(\"subtitles_raw/ru-en_0-900.txt\", \"rt\", encoding=\"utf-8\") as f:\n",
    "    text = f.read()\n",
    "\n",
    "data = text.split('================================')"
   ]
  },
  {
   "cell_type": "code",
   "execution_count": 3,
   "metadata": {
    "ExecuteTime": {
     "start_time": "2023-04-13T21:56:01.954671Z",
     "end_time": "2023-04-13T21:56:08.181257Z"
    }
   },
   "outputs": [],
   "source": [
    "data = [item.strip() for item in data]\n",
    "\n",
    "ru = []\n",
    "en = []\n",
    "idx = 0\n",
    "for item in data:\n",
    "    if item.startswith('#') or not item:\n",
    "        continue\n",
    "    sentences = item.split('\\n')\n",
    "    src = []\n",
    "    trg = []\n",
    "    for sentence in sentences:\n",
    "        # print(idx, sentence)\n",
    "        if sentence.startswith(\"(src)\"):\n",
    "            trash, useful = sentence.split(\">\");\n",
    "            useful = useful.split();\n",
    "            src += useful\n",
    "        else:\n",
    "            trash, useful = sentence.split(\">\");\n",
    "            useful = useful.split();\n",
    "            trg += useful\n",
    "        idx += 1\n",
    "        \n",
    "    ru.append(src)\n",
    "    en.append(trg)\n"
   ]
  },
  {
   "cell_type": "code",
   "execution_count": 4,
   "metadata": {
    "ExecuteTime": {
     "start_time": "2023-04-13T21:56:08.186086Z",
     "end_time": "2023-04-13T21:56:08.201044Z"
    }
   },
   "outputs": [
    {
     "name": "stdout",
     "output_type": "stream",
     "text": [
      "[['Дети',\n",
      "  'могут',\n",
      "  'достать',\n",
      "  'во',\n",
      "  'дворе',\n",
      "  'почти',\n",
      "  'всё',\n",
      "  'что',\n",
      "  'угодно',\n",
      "  'до',\n",
      "  'тех',\n",
      "  'пор',\n",
      "  ',',\n",
      "  'пока',\n",
      "  'могут',\n",
      "  'себе',\n",
      "  'это',\n",
      "  'позволить',\n",
      "  '.'],\n",
      " ['Всё', 'имеет', 'свою', 'цену', '.'],\n",
      " ['Эй', ',', 'Ник', '.']]\n"
     ]
    }
   ],
   "source": [
    "pprint(ru[:3])"
   ]
  },
  {
   "cell_type": "code",
   "execution_count": 5,
   "metadata": {
    "ExecuteTime": {
     "start_time": "2023-04-13T21:56:26.758978Z",
     "end_time": "2023-04-13T21:56:26.805879Z"
    }
   },
   "outputs": [
    {
     "name": "stdout",
     "output_type": "stream",
     "text": [
      "[['Kids',\n",
      "  'can',\n",
      "  'get',\n",
      "  'pretty',\n",
      "  'much',\n",
      "  'anything',\n",
      "  'they',\n",
      "  'want',\n",
      "  'in',\n",
      "  'the',\n",
      "  'yard',\n",
      "  ',',\n",
      "  'as',\n",
      "  'long',\n",
      "  'as',\n",
      "  'they',\n",
      "  'can',\n",
      "  'afford',\n",
      "  'it',\n",
      "  '.'],\n",
      " [\"'Cause\", 'everything', 'comes', 'with', 'a', 'price', '.'],\n",
      " ['Hey', ',', 'Nick', '.']]\n"
     ]
    }
   ],
   "source": [
    "pprint(en[:3])"
   ]
  },
  {
   "cell_type": "code",
   "execution_count": 6,
   "metadata": {
    "ExecuteTime": {
     "start_time": "2023-04-13T21:56:29.860977Z",
     "end_time": "2023-04-13T21:56:36.924261Z"
    }
   },
   "outputs": [],
   "source": [
    "import spacy\n",
    "from tqdm import tqdm\n",
    "from simalign import SentenceAligner"
   ]
  },
  {
   "cell_type": "code",
   "execution_count": 7,
   "metadata": {
    "ExecuteTime": {
     "start_time": "2023-04-13T21:57:25.786791Z",
     "end_time": "2023-04-13T21:57:28.696873Z"
    }
   },
   "outputs": [
    {
     "name": "stderr",
     "output_type": "stream",
     "text": [
      "Some weights of the model checkpoint at bert-base-multilingual-cased were not used when initializing BertModel: ['cls.predictions.decoder.weight', 'cls.predictions.transform.LayerNorm.bias', 'cls.predictions.bias', 'cls.seq_relationship.bias', 'cls.seq_relationship.weight', 'cls.predictions.transform.LayerNorm.weight', 'cls.predictions.transform.dense.bias', 'cls.predictions.transform.dense.weight']\n",
      "- This IS expected if you are initializing BertModel from the checkpoint of a model trained on another task or with another architecture (e.g. initializing a BertForSequenceClassification model from a BertForPreTraining model).\n",
      "- This IS NOT expected if you are initializing BertModel from the checkpoint of a model that you expect to be exactly identical (initializing a BertForSequenceClassification model from a BertForSequenceClassification model).\n",
      "2023-04-13 21:57:28,681 - simalign.simalign - INFO - Initialized the EmbeddingLoader with model: bert-base-multilingual-cased\n"
     ]
    }
   ],
   "source": [
    "myaligner = SentenceAligner(model=\"bert\", token_type=\"bpe\", matching_methods=\"mai\")"
   ]
  },
  {
   "cell_type": "code",
   "execution_count": 11,
   "outputs": [],
   "source": [
    "en_nlp_md = spacy.load(\"en_core_web_md\")\n",
    "ru_nlp_md = spacy.load(\"ru_core_news_md\")"
   ],
   "metadata": {
    "collapsed": false,
    "ExecuteTime": {
     "start_time": "2023-04-14T01:33:20.810085Z",
     "end_time": "2023-04-14T01:33:25.616263Z"
    }
   }
  },
  {
   "cell_type": "code",
   "execution_count": null,
   "metadata": {
    "pycharm": {
     "is_executing": true
    }
   },
   "outputs": [
    {
     "name": "stderr",
     "output_type": "stream",
     "text": [
      " 35%|███▍      | 6960/20000 [12:22<33:37,  6.46it/s]  "
     ]
    }
   ],
   "source": [
    "chunk_size = 20000\n",
    "latest_chunk = 320000\n",
    "for chunk_start in range(latest_chunk, len(ru), chunk_size):\n",
    "    mwmf = \"\"\n",
    "    itermax = \"\"\n",
    "    inter = \"\"\n",
    "\n",
    "\n",
    "\n",
    "    for i in tqdm(range(chunk_start, chunk_start + chunk_size)):\n",
    "        ru_sentence = \" \".join(ru[i])\n",
    "        ru_doc = ru_nlp_md(ru_sentence)\n",
    "        ru_sentence = \" \".join(ru[i])\n",
    "        ru_doc = ru_nlp_md(ru_sentence)\n",
    "\n",
    "        src, trg = (ru[i], en[i])\n",
    "        alignments = myaligner.get_word_aligns(src, trg)\n",
    "        mwmf += \" \".join([f\"{x}-{y}\" for x, y in alignments[\"mwmf\"]])\n",
    "        itermax += \" \".join([f\"{x}-{y}\" for x, y in alignments[\"itermax\"]])\n",
    "        inter += \" \".join([f\"{x}-{y}\" for x, y in alignments[\"inter\"]])\n",
    "        mwmf += \"\\n\"\n",
    "        itermax += \"\\n\"\n",
    "        inter += \"\\n\"\n",
    "\n",
    "    folder_name = \"corpora/subtitles/numerical_alignment\"\n",
    "    filename = f\"aligned_{chunk_start}-{chunk_start + chunk_size - 1}\"\n",
    "    fname_mwmf = f\"{folder_name}/mwmf/{filename}\"\n",
    "    fname_itermax = f\"{folder_name}/itermax/{filename}\"\n",
    "    fname_inter = f\"{folder_name}/inter/{filename}\"\n",
    "\n",
    "    with open(fname_mwmf, 'wt', encoding=\"utf-8\") as f:\n",
    "        f.write(mwmf)\n",
    "\n",
    "    with open(fname_itermax, 'wt', encoding=\"utf-8\") as f:\n",
    "        f.write(itermax)\n",
    "\n",
    "    with open(fname_inter, 'wt', encoding=\"utf-8\") as f:\n",
    "        f.write(inter)"
   ]
  },
  {
   "cell_type": "code",
   "execution_count": 19,
   "outputs": [],
   "source": [
    "п"
   ],
   "metadata": {
    "collapsed": false,
    "ExecuteTime": {
     "start_time": "2023-04-14T01:40:41.211239Z",
     "end_time": "2023-04-14T01:40:42.786569Z"
    }
   }
  },
  {
   "cell_type": "code",
   "execution_count": 20,
   "outputs": [
    {
     "name": "stdout",
     "output_type": "stream",
     "text": [
      "|Kids|, kid, NOUN\n",
      "|can|, can, AUX\n",
      "|get|, get, VERB\n",
      "|pretty|, pretty, ADV\n",
      "|much|, much, ADJ\n",
      "|anything|, anything, PRON\n",
      "|they|, they, PRON\n",
      "|want|, want, VERB\n",
      "|in|, in, ADP\n",
      "|the|, the, DET\n",
      "|yard|, yard, NOUN\n",
      "|,|, ,, PUNCT\n",
      "|as|, as, ADV\n",
      "|long|, long, ADV\n",
      "|as|, as, SCONJ\n",
      "|they|, they, PRON\n",
      "|can|, can, AUX\n",
      "|afford|, afford, VERB\n",
      "|it|, it, PRON\n",
      "|.|, ., PUNCT\n"
     ]
    }
   ],
   "source": [
    "for word in doc:\n",
    "    print(f\"|{word.text}|, {word.lemma_}, {word.pos_}\")"
   ],
   "metadata": {
    "collapsed": false,
    "ExecuteTime": {
     "start_time": "2023-04-14T01:40:45.682779Z",
     "end_time": "2023-04-14T01:40:45.698423Z"
    }
   }
  },
  {
   "cell_type": "code",
   "execution_count": null,
   "outputs": [],
   "source": [],
   "metadata": {
    "collapsed": false
   }
  }
 ],
 "metadata": {
  "kernelspec": {
   "display_name": "Python 3 (ipykernel)",
   "language": "python",
   "name": "python3"
  },
  "orig_nbformat": 4,
  "vscode": {
   "interpreter": {
    "hash": "916dbcbb3f70747c44a77c7bcd40155683ae19c65e1c03b4aa3499c5328201f1"
   }
  }
 },
 "nbformat": 4,
 "nbformat_minor": 2
}
