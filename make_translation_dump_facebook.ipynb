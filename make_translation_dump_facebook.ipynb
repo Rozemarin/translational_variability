{
 "cells": [
  {
   "cell_type": "code",
   "execution_count": 2,
   "metadata": {
    "ExecuteTime": {
     "end_time": "2023-04-15T02:23:15.409516Z",
     "start_time": "2023-04-15T02:23:14.596323Z"
    }
   },
   "outputs": [
    {
     "name": "stdout",
     "output_type": "stream",
     "text": [
      "Installed kernelspec translational_variability_3.9 in /home/warri/.local/share/jupyter/kernels/translational_variability_3.9\r\n"
     ]
    }
   ],
   "source": [
    "! ipython kernel install --user --name=translational_variability_3.9"
   ]
  },
  {
   "cell_type": "code",
   "execution_count": 9,
   "metadata": {
    "ExecuteTime": {
     "end_time": "2023-04-15T02:31:21.885848Z",
     "start_time": "2023-04-15T02:31:21.749904Z"
    }
   },
   "outputs": [],
   "source": [
    "! which python | echo > ./output.txt"
   ]
  },
  {
   "cell_type": "code",
   "execution_count": 1,
   "metadata": {
    "ExecuteTime": {
     "start_time": "2023-04-16T01:41:08.271586Z",
     "end_time": "2023-04-16T01:41:24.901135Z"
    }
   },
   "outputs": [],
   "source": [
    "from easynmt import EasyNMT\n",
    "model = EasyNMT('m2m_100_418M')"
   ]
  },
  {
   "cell_type": "code",
   "execution_count": 6,
   "metadata": {
    "ExecuteTime": {
     "end_time": "2023-04-16T01:26:18.980721Z",
     "start_time": "2023-04-16T01:26:14.120465Z"
    }
   },
   "outputs": [
    {
     "data": {
      "text/plain": [
       "'He put his hand on her shoulder.'"
      ]
     },
     "execution_count": 6,
     "metadata": {},
     "output_type": "execute_result"
    }
   ],
   "source": [
    "sentence = \"Он положил свою руку к ней на плечо\"\n",
    "model.translate(sentence, source_lang='ru', target_lang='en', beam_size=15, max_length=200)"
   ]
  },
  {
   "cell_type": "code",
   "execution_count": 1,
   "metadata": {
    "ExecuteTime": {
     "end_time": "2023-04-16T01:00:26.948983Z",
     "start_time": "2023-04-16T01:00:19.429403Z"
    }
   },
   "outputs": [
    {
     "name": "stderr",
     "output_type": "stream",
     "text": [
      "Some weights of the model checkpoint at bert-base-multilingual-cased were not used when initializing BertModel: ['cls.predictions.bias', 'cls.seq_relationship.bias', 'cls.seq_relationship.weight', 'cls.predictions.transform.LayerNorm.weight', 'cls.predictions.decoder.weight', 'cls.predictions.transform.dense.weight', 'cls.predictions.transform.LayerNorm.bias', 'cls.predictions.transform.dense.bias']\n",
      "- This IS expected if you are initializing BertModel from the checkpoint of a model trained on another task or with another architecture (e.g. initializing a BertForSequenceClassification model from a BertForPreTraining model).\n",
      "- This IS NOT expected if you are initializing BertModel from the checkpoint of a model that you expect to be exactly identical (initializing a BertForSequenceClassification model from a BertForSequenceClassification model).\n",
      "2023-04-16 01:00:26,933 - simalign.simalign - INFO - Initialized the EmbeddingLoader with model: bert-base-multilingual-cased\n"
     ]
    }
   ],
   "source": [
    "from simalign import SentenceAligner\n",
    "myaligner = SentenceAligner(model=\"bert\", token_type=\"bpe\", matching_methods=\"mai\")"
   ]
  },
  {
   "cell_type": "code",
   "execution_count": 2,
   "metadata": {
    "ExecuteTime": {
     "start_time": "2023-04-16T01:41:25.119803Z",
     "end_time": "2023-04-16T01:41:25.155535Z"
    }
   },
   "outputs": [],
   "source": [
    "with open(\"./corpora/karenina/originals/Books_ru.txt\", \"rt\", encoding=\"utf-8\") as file:\n",
    "    ru_corpus_raw = [line.rstrip() for line in file]"
   ]
  },
  {
   "cell_type": "code",
   "execution_count": 3,
   "metadata": {
    "ExecuteTime": {
     "start_time": "2023-04-16T01:41:26.620351Z",
     "end_time": "2023-04-16T01:41:26.682890Z"
    }
   },
   "outputs": [],
   "source": [
    "with open(\"./corpora/karenina/ru_tokens.txt\", \"rt\", encoding=\"utf-8\") as file:\n",
    "    ru_tokens = [line.rstrip() for line in file]"
   ]
  },
  {
   "cell_type": "code",
   "execution_count": 8,
   "metadata": {},
   "outputs": [
    {
     "name": "stdout",
     "output_type": "stream",
     "text": [
      "Collecting en-core-web-lg==3.5.0\n",
      "  Downloading https://github.com/explosion/spacy-models/releases/download/en_core_web_lg-3.5.0/en_core_web_lg-3.5.0-py3-none-any.whl (587.7 MB)\n",
      "\u001B[2K     \u001B[38;2;114;156;31m━━━━━━━━━━━━━━━━━━━━━━━━━━━━━━━━━━━━━\u001B[0m \u001B[32m587.7/587.7 MB\u001B[0m \u001B[31m966.6 kB/s\u001B[0m eta \u001B[36m0:00:00\u001B[0mm eta \u001B[36m0:00:01\u001B[0m[36m0:00:07\u001B[0m\n",
      "\u001B[?25hRequirement already satisfied: spacy<3.6.0,>=3.5.0 in ./translational_variability_3.9/lib/python3.9/site-packages (from en-core-web-lg==3.5.0) (3.5.2)\n",
      "Requirement already satisfied: smart-open<7.0.0,>=5.2.1 in ./translational_variability_3.9/lib/python3.9/site-packages (from spacy<3.6.0,>=3.5.0->en-core-web-lg==3.5.0) (6.3.0)\n",
      "Requirement already satisfied: pydantic!=1.8,!=1.8.1,<1.11.0,>=1.7.4 in ./translational_variability_3.9/lib/python3.9/site-packages (from spacy<3.6.0,>=3.5.0->en-core-web-lg==3.5.0) (1.10.7)\n",
      "Requirement already satisfied: setuptools in ./translational_variability_3.9/lib/python3.9/site-packages (from spacy<3.6.0,>=3.5.0->en-core-web-lg==3.5.0) (58.1.0)\n",
      "Requirement already satisfied: tqdm<5.0.0,>=4.38.0 in ./translational_variability_3.9/lib/python3.9/site-packages (from spacy<3.6.0,>=3.5.0->en-core-web-lg==3.5.0) (4.65.0)\n",
      "Requirement already satisfied: numpy>=1.15.0 in ./translational_variability_3.9/lib/python3.9/site-packages (from spacy<3.6.0,>=3.5.0->en-core-web-lg==3.5.0) (1.19.5)\n",
      "Requirement already satisfied: pathy>=0.10.0 in ./translational_variability_3.9/lib/python3.9/site-packages (from spacy<3.6.0,>=3.5.0->en-core-web-lg==3.5.0) (0.10.1)\n",
      "Requirement already satisfied: spacy-legacy<3.1.0,>=3.0.11 in ./translational_variability_3.9/lib/python3.9/site-packages (from spacy<3.6.0,>=3.5.0->en-core-web-lg==3.5.0) (3.0.12)\n",
      "Requirement already satisfied: packaging>=20.0 in ./translational_variability_3.9/lib/python3.9/site-packages (from spacy<3.6.0,>=3.5.0->en-core-web-lg==3.5.0) (23.1)\n",
      "Requirement already satisfied: jinja2 in ./translational_variability_3.9/lib/python3.9/site-packages (from spacy<3.6.0,>=3.5.0->en-core-web-lg==3.5.0) (3.1.2)\n",
      "Requirement already satisfied: langcodes<4.0.0,>=3.2.0 in ./translational_variability_3.9/lib/python3.9/site-packages (from spacy<3.6.0,>=3.5.0->en-core-web-lg==3.5.0) (3.3.0)\n",
      "Requirement already satisfied: thinc<8.2.0,>=8.1.8 in ./translational_variability_3.9/lib/python3.9/site-packages (from spacy<3.6.0,>=3.5.0->en-core-web-lg==3.5.0) (8.1.9)\n",
      "Requirement already satisfied: spacy-loggers<2.0.0,>=1.0.0 in ./translational_variability_3.9/lib/python3.9/site-packages (from spacy<3.6.0,>=3.5.0->en-core-web-lg==3.5.0) (1.0.4)\n",
      "Requirement already satisfied: catalogue<2.1.0,>=2.0.6 in ./translational_variability_3.9/lib/python3.9/site-packages (from spacy<3.6.0,>=3.5.0->en-core-web-lg==3.5.0) (2.0.8)\n",
      "Requirement already satisfied: requests<3.0.0,>=2.13.0 in ./translational_variability_3.9/lib/python3.9/site-packages (from spacy<3.6.0,>=3.5.0->en-core-web-lg==3.5.0) (2.28.2)\n",
      "Requirement already satisfied: murmurhash<1.1.0,>=0.28.0 in ./translational_variability_3.9/lib/python3.9/site-packages (from spacy<3.6.0,>=3.5.0->en-core-web-lg==3.5.0) (1.0.9)\n",
      "Requirement already satisfied: srsly<3.0.0,>=2.4.3 in ./translational_variability_3.9/lib/python3.9/site-packages (from spacy<3.6.0,>=3.5.0->en-core-web-lg==3.5.0) (2.4.6)\n",
      "Requirement already satisfied: preshed<3.1.0,>=3.0.2 in ./translational_variability_3.9/lib/python3.9/site-packages (from spacy<3.6.0,>=3.5.0->en-core-web-lg==3.5.0) (3.0.8)\n",
      "Requirement already satisfied: cymem<2.1.0,>=2.0.2 in ./translational_variability_3.9/lib/python3.9/site-packages (from spacy<3.6.0,>=3.5.0->en-core-web-lg==3.5.0) (2.0.7)\n",
      "Requirement already satisfied: wasabi<1.2.0,>=0.9.1 in ./translational_variability_3.9/lib/python3.9/site-packages (from spacy<3.6.0,>=3.5.0->en-core-web-lg==3.5.0) (1.1.1)\n",
      "Requirement already satisfied: typer<0.8.0,>=0.3.0 in ./translational_variability_3.9/lib/python3.9/site-packages (from spacy<3.6.0,>=3.5.0->en-core-web-lg==3.5.0) (0.7.0)\n",
      "Requirement already satisfied: typing-extensions>=4.2.0 in ./translational_variability_3.9/lib/python3.9/site-packages (from pydantic!=1.8,!=1.8.1,<1.11.0,>=1.7.4->spacy<3.6.0,>=3.5.0->en-core-web-lg==3.5.0) (4.5.0)\n",
      "Requirement already satisfied: charset-normalizer<4,>=2 in ./translational_variability_3.9/lib/python3.9/site-packages (from requests<3.0.0,>=2.13.0->spacy<3.6.0,>=3.5.0->en-core-web-lg==3.5.0) (3.1.0)\n",
      "Requirement already satisfied: idna<4,>=2.5 in ./translational_variability_3.9/lib/python3.9/site-packages (from requests<3.0.0,>=2.13.0->spacy<3.6.0,>=3.5.0->en-core-web-lg==3.5.0) (3.4)\n",
      "Requirement already satisfied: urllib3<1.27,>=1.21.1 in ./translational_variability_3.9/lib/python3.9/site-packages (from requests<3.0.0,>=2.13.0->spacy<3.6.0,>=3.5.0->en-core-web-lg==3.5.0) (1.26.15)\n",
      "Requirement already satisfied: certifi>=2017.4.17 in ./translational_variability_3.9/lib/python3.9/site-packages (from requests<3.0.0,>=2.13.0->spacy<3.6.0,>=3.5.0->en-core-web-lg==3.5.0) (2022.12.7)\n",
      "Requirement already satisfied: confection<1.0.0,>=0.0.1 in ./translational_variability_3.9/lib/python3.9/site-packages (from thinc<8.2.0,>=8.1.8->spacy<3.6.0,>=3.5.0->en-core-web-lg==3.5.0) (0.0.4)\n",
      "Requirement already satisfied: blis<0.8.0,>=0.7.8 in ./translational_variability_3.9/lib/python3.9/site-packages (from thinc<8.2.0,>=8.1.8->spacy<3.6.0,>=3.5.0->en-core-web-lg==3.5.0) (0.7.9)\n",
      "Requirement already satisfied: click<9.0.0,>=7.1.1 in ./translational_variability_3.9/lib/python3.9/site-packages (from typer<0.8.0,>=0.3.0->spacy<3.6.0,>=3.5.0->en-core-web-lg==3.5.0) (8.1.3)\n",
      "Requirement already satisfied: MarkupSafe>=2.0 in ./translational_variability_3.9/lib/python3.9/site-packages (from jinja2->spacy<3.6.0,>=3.5.0->en-core-web-lg==3.5.0) (2.1.2)\n",
      "Installing collected packages: en-core-web-lg\n",
      "Successfully installed en-core-web-lg-3.5.0\n",
      "\u001B[33mWARNING: You are using pip version 22.0.4; however, version 23.0.1 is available.\n",
      "You should consider upgrading via the '/home/warri/code/aaa/translational_variability/translational_variability_3.9/bin/python3 -m pip install --upgrade pip' command.\u001B[0m\u001B[33m\n",
      "\u001B[0m\u001B[38;5;2m✔ Download and installation successful\u001B[0m\n",
      "You can now load the package via spacy.load('en_core_web_lg')\n"
     ]
    }
   ],
   "source": [
    "! python3 -m spacy download en_core_web_lg"
   ]
  },
  {
   "cell_type": "code",
   "execution_count": 4,
   "metadata": {
    "ExecuteTime": {
     "start_time": "2023-04-16T01:41:34.350634Z",
     "end_time": "2023-04-16T01:41:36.039261Z"
    }
   },
   "outputs": [],
   "source": [
    "from tqdm import tqdm\n",
    "import spacy"
   ]
  },
  {
   "cell_type": "code",
   "execution_count": 5,
   "metadata": {
    "ExecuteTime": {
     "start_time": "2023-04-16T01:41:37.227537Z",
     "end_time": "2023-04-16T01:41:40.025601Z"
    }
   },
   "outputs": [],
   "source": [
    "en_nlp_lg = spacy.load(\"en_core_web_lg\")"
   ]
  },
  {
   "cell_type": "code",
   "execution_count": 14,
   "metadata": {
    "ExecuteTime": {
     "start_time": "2023-04-17T00:53:32.423472Z",
     "end_time": "2023-04-17T19:00:01.358030Z"
    }
   },
   "outputs": [
    {
     "name": "stderr",
     "output_type": "stream",
     "text": [
      "100%|██████████| 8733/8733 [18:06:28<00:00,  7.46s/it]   \n"
     ]
    }
   ],
   "source": [
    "translation_text = \"\"\n",
    "docs = []\n",
    "\n",
    "for i in tqdm(range(8522, len(ru_corpus_raw))):\n",
    "    translation = model.translate(ru_corpus_raw[i], source_lang='ru', target_lang='en', beam_size=10, max_length=200)\n",
    "    spacy_doc = en_nlp_lg(translation)\n",
    "    docs.append(spacy_doc)\n",
    "    translation_text += translation\n",
    "    translation_text += '\\n'"
   ]
  },
  {
   "cell_type": "code",
   "execution_count": 15,
   "outputs": [],
   "source": [
    "with open('./translations_karenina_facebook_beam10.txt', 'wt', encoding=\"utf-8\") as f:\n",
    "    f.write(translation_text)\n",
    "\n",
    "from spacy.tokens import DocBin\n",
    "doc_bin = DocBin()\n",
    "for doc in docs:\n",
    "    doc_bin.add(doc)\n",
    "bytes_data = doc_bin.to_bytes()\n",
    "\n",
    "with open(\"./translated_spacy_doc_beam10_facebook.bin\", \"wb\") as file:\n",
    "    file.write(bytes_data)"
   ],
   "metadata": {
    "collapsed": false,
    "ExecuteTime": {
     "start_time": "2023-04-18T00:55:46.399110Z",
     "end_time": "2023-04-18T00:55:48.517551Z"
    }
   }
  },
  {
   "cell_type": "code",
   "execution_count": 13,
   "outputs": [],
   "source": [
    "translation_facebook = translation_text\n",
    "doc_facebook = docs"
   ],
   "metadata": {
    "collapsed": false,
    "ExecuteTime": {
     "start_time": "2023-04-17T00:53:27.021144Z",
     "end_time": "2023-04-17T00:53:27.052624Z"
    }
   }
  },
  {
   "cell_type": "code",
   "execution_count": 9,
   "metadata": {
    "ExecuteTime": {
     "start_time": "2023-04-17T00:51:18.244910Z",
     "end_time": "2023-04-17T00:51:19.581962Z"
    }
   },
   "outputs": [],
   "source": [
    "with open('./translations_karenina_facebook_beam15.txt', 'wt', encoding=\"utf-8\") as f:\n",
    "    f.write(translation_text)\n",
    "\n",
    "from spacy.tokens import DocBin\n",
    "doc_bin = DocBin()\n",
    "for doc in docs:\n",
    "    doc_bin.add(doc)\n",
    "bytes_data = doc_bin.to_bytes()\n",
    "\n",
    "with open(\"./translated_spacy_doc_beam15_facebook.bin\", \"wb\") as file:\n",
    "    file.write(bytes_data)"
   ]
  },
  {
   "cell_type": "code",
   "execution_count": null,
   "metadata": {},
   "outputs": [],
   "source": []
  },
  {
   "cell_type": "code",
   "execution_count": 1,
   "metadata": {},
   "outputs": [
    {
     "ename": "NameError",
     "evalue": "name 'tqdm' is not defined",
     "output_type": "error",
     "traceback": [
      "\u001B[1;31m---------------------------------------------------------------------------\u001B[0m",
      "\u001B[1;31mNameError\u001B[0m                                 Traceback (most recent call last)",
      "Cell \u001B[1;32mIn[1], line 5\u001B[0m\n\u001B[0;32m      2\u001B[0m itermax \u001B[38;5;241m=\u001B[39m \u001B[38;5;124m\"\u001B[39m\u001B[38;5;124m\"\u001B[39m\n\u001B[0;32m      3\u001B[0m inter \u001B[38;5;241m=\u001B[39m \u001B[38;5;124m\"\u001B[39m\u001B[38;5;124m\"\u001B[39m\n\u001B[1;32m----> 5\u001B[0m \u001B[38;5;28;01mfor\u001B[39;00m i, doc \u001B[38;5;129;01min\u001B[39;00m \u001B[43mtqdm\u001B[49m(\u001B[38;5;28menumerate\u001B[39m(docs)):\n\u001B[0;32m      6\u001B[0m     en_tokens \u001B[38;5;241m=\u001B[39m [word\u001B[38;5;241m.\u001B[39mtext \u001B[38;5;28;01mfor\u001B[39;00m word \u001B[38;5;129;01min\u001B[39;00m doc]\n\u001B[0;32m      7\u001B[0m     \u001B[38;5;28mprint\u001B[39m(ru_tokens[i], \u001B[38;5;124m\"\u001B[39m\u001B[38;5;130;01m\\n\u001B[39;00m\u001B[38;5;124m\"\u001B[39m, en_tokens)\n",
      "\u001B[1;31mNameError\u001B[0m: name 'tqdm' is not defined"
     ]
    }
   ],
   "source": [
    "mwmf = \"\"\n",
    "itermax = \"\"\n",
    "inter = \"\"\n",
    "\n",
    "for i, doc in tqdm(enumerate(docs)):\n",
    "    en_tokens = [word.text for word in doc]\n",
    "    print(ru_tokens[i], \"\\n\", en_tokens)\n",
    "    src, trg = (ru_tokens[i], en_tokens)\n",
    "    alignments = myaligner.get_word_aligns(src, trg)\n",
    "    mwmf += \" \".join([f\"{x}-{y}\" for x, y in alignments[\"mwmf\"]])\n",
    "    itermax += \" \".join([f\"{x}-{y}\" for x, y in alignments[\"itermax\"]])\n",
    "    inter += \" \".join([f\"{x}-{y}\" for x, y in alignments[\"inter\"]])\n",
    "    mwmf += \"\\n\"\n",
    "    itermax += \"\\n\"\n",
    "    inter += \"\\n\""
   ]
  },
  {
   "cell_type": "code",
   "execution_count": 17,
   "metadata": {},
   "outputs": [],
   "source": [
    "with open('./mwmf.txt', 'wt') as f:\n",
    "    f.write(mwmf)\n",
    "with open('./itermax.txt', 'wt') as f:\n",
    "    f.write(itermax)\n",
    "with open('./inter.txt', 'wt') as f:\n",
    "    f.write(inter)"
   ]
  },
  {
   "cell_type": "code",
   "execution_count": 14,
   "metadata": {},
   "outputs": [],
   "source": [
    "with open('./translations_karenina_facebook_beam15.txt', 'wt') as f:\n",
    "    f.write(translation_text)"
   ]
  },
  {
   "cell_type": "code",
   "execution_count": null,
   "metadata": {},
   "outputs": [],
   "source": [
    "translation_list2 = []\n",
    "for line in tqdm(ru_corpus_raw[5000:10000]):\n",
    "    translation = model.translate(line, source_lang=\"ru\", target_lang='en', beam_size=20)\n",
    "    translation_list2.append(translation)"
   ]
  },
  {
   "cell_type": "code",
   "execution_count": null,
   "metadata": {},
   "outputs": [],
   "source": [
    "translation_list3 = []\n",
    "for line in tqdm(ru_corpus_raw[10000:]):\n",
    "    translation = model.translate(line, source_lang=\"ru\", target_lang='en', beam_size=20)\n",
    "    translation_list3.append(translation)"
   ]
  },
  {
   "cell_type": "code",
   "execution_count": 18,
   "metadata": {},
   "outputs": [],
   "source": [
    "from spacy.tokens import DocBin\n",
    "\n",
    "doc_bin = DocBin()\n",
    "for doc in docs:\n",
    "    doc_bin.add(doc)\n",
    "bytes_data = doc_bin.to_bytes()\n",
    "\n",
    "with open(\"./translated_spacy_doc_beam15.bin\", \"wb\") as file:\n",
    "    file.write(bytes_data)"
   ]
  },
  {
   "cell_type": "code",
   "execution_count": 21,
   "metadata": {
    "ExecuteTime": {
     "end_time": "2023-04-15T02:00:34.581222Z",
     "start_time": "2023-04-15T02:00:34.563193Z"
    }
   },
   "outputs": [],
   "source": []
  },
  {
   "cell_type": "code",
   "execution_count": null,
   "metadata": {
    "collapsed": true
   },
   "outputs": [],
   "source": [
    "translation_data = [\"\" for i in range(len(ru_corpus_raw))]\n",
    "aligned_data_itermax = [\"\" for i in range(len(ru_corpus_raw))]\n",
    "aligned_data_inter = [\"\" for i in range(len(ru_corpus_raw))]\n",
    "aligned_data_mwmf = [\"\" for i in range(len(ru_corpus_raw))]\n",
    "for idx, translation, alignments in data[2]:\n",
    "    translation_data[idx] = translation\n",
    "    aligned_data_mwmf[idx] = \" \".join([f\"{x}-{y}\" for x, y in alignments[\"mwmf\"]])\n",
    "    aligned_data_itermax[idx] = \" \".join([f\"{x}-{y}\" for x, y in alignments[\"itermax\"]])\n",
    "    aligned_data_inter[idx] = \" \".join([f\"{x}-{y}\" for x, y in alignments[\"inter\"]])"
   ]
  }
 ],
 "metadata": {
  "kernelspec": {
   "display_name": "Python 3 (ipykernel)",
   "language": "python",
   "name": "python3"
  },
  "language_info": {
   "codemirror_mode": {
    "name": "ipython",
    "version": 3
   },
   "file_extension": ".py",
   "mimetype": "text/x-python",
   "name": "python",
   "nbconvert_exporter": "python",
   "pygments_lexer": "ipython3",
   "version": "3.9.7"
  }
 },
 "nbformat": 4,
 "nbformat_minor": 1
}
