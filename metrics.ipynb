{
 "cells": [
  {
   "attachments": {},
   "cell_type": "markdown",
   "metadata": {},
   "source": [
    "# Подсчет метрик для данных"
   ]
  },
  {
   "attachments": {},
   "cell_type": "markdown",
   "metadata": {},
   "source": [
    "Некоторые метрики оказались непоказательными и не использовались в исследовании"
   ]
  },
  {
   "attachments": {},
   "cell_type": "markdown",
   "metadata": {},
   "source": [
    "## Подготовка данных"
   ]
  },
  {
   "cell_type": "code",
   "execution_count": 2,
   "metadata": {},
   "outputs": [],
   "source": [
    "import spacy\n",
    "from spacy.tokens import DocBin\n",
    "from tqdm import tqdm"
   ]
  },
  {
   "cell_type": "code",
   "execution_count": 3,
   "metadata": {},
   "outputs": [],
   "source": [
    "with open(\"subtitles_raw/en_raw_0-900.txt\", \"rt\", encoding=\"utf-8\") as f:\n",
    "    en_corpus_raw = [line.strip() for line in f]\n",
    "\n",
    "with open(\"corpora/subtitles/facebook/facebook5_whole.txt\", \"rt\", encoding=\"utf-8\") as f:\n",
    "    translated_corpus_raw = [line.strip() for line in f]"
   ]
  },
  {
   "cell_type": "code",
   "execution_count": 4,
   "metadata": {},
   "outputs": [],
   "source": [
    "with open(\"corpora/subtitles/facebook/facebook5_spacy.bin\", \"rb\") as file:\n",
    "    en_translated_bytes_data = file.read()\n",
    "\n",
    "nlp = spacy.blank(\"en\")\n",
    "doc_bin = DocBin().from_bytes(en_translated_bytes_data)\n",
    "en_translated_docs = list(doc_bin.get_docs(nlp.vocab))"
   ]
  },
  {
   "cell_type": "code",
   "execution_count": 4,
   "metadata": {},
   "outputs": [],
   "source": [
    "with open(\"corpora/subtitles/en_subtitles_spacy_dump.bin\", \"rb\") as file:\n",
    "    en_bytes_data = file.read()\n",
    "\n",
    "nlp = spacy.blank(\"en\")\n",
    "doc_bin = DocBin().from_bytes(en_bytes_data)\n",
    "en_docs = list(doc_bin.get_docs(nlp.vocab))"
   ]
  },
  {
   "cell_type": "code",
   "execution_count": 6,
   "metadata": {},
   "outputs": [
    {
     "data": {
      "text/plain": [
       "Magivers talked about darker areas where the surface looks more solid."
      ]
     },
     "execution_count": 6,
     "metadata": {},
     "output_type": "execute_result"
    }
   ],
   "source": [
    "en_translated_docs[890000]"
   ]
  },
  {
   "attachments": {},
   "cell_type": "markdown",
   "metadata": {},
   "source": [
    "# meteor"
   ]
  },
  {
   "cell_type": "code",
   "execution_count": 5,
   "metadata": {},
   "outputs": [
    {
     "data": {
      "text/plain": [
       "0.9375"
      ]
     },
     "execution_count": 5,
     "metadata": {},
     "output_type": "execute_result"
    }
   ],
   "source": [
    "import nltk\n",
    "from nltk.translate import meteor_score\n",
    "\n",
    "predictions = ['a', 'a', 'a', 'b']\n",
    "references = [['b', 'a', 'a', 'a']]\n",
    "meteor_score.meteor_score(references, predictions)"
   ]
  },
  {
   "cell_type": "code",
   "execution_count": 9,
   "metadata": {},
   "outputs": [
    {
     "name": "stderr",
     "output_type": "stream",
     "text": [
      "100%|██████████| 900000/900000 [05:46<00:00, 2596.96it/s]\n"
     ]
    }
   ],
   "source": [
    "meteor_scores = []\n",
    "for sentence_number in tqdm(range(900000)):\n",
    "    predictions = [str(token) for token in en_translated_docs[sentence_number]]\n",
    "    references =  [en_corpus_raw[sentence_number].split()]\n",
    "    meteor_scores.append(meteor_score.meteor_score(references, predictions))"
   ]
  },
  {
   "cell_type": "code",
   "execution_count": 15,
   "metadata": {},
   "outputs": [],
   "source": [
    "with open(\"corpora/subtitles/facebook/facebook5_meteor.txt\", \"wt\", encoding=\"utf-8\") as f:\n",
    "    for number in meteor_scores:\n",
    "        f.write(f'{number}\\n')"
   ]
  },
  {
   "cell_type": "markdown",
   "metadata": {},
   "source": [
    "# NIST"
   ]
  },
  {
   "cell_type": "code",
   "execution_count": 27,
   "metadata": {},
   "outputs": [
    {
     "data": {
      "text/plain": [
       "2.9629065506698953"
      ]
     },
     "execution_count": 27,
     "metadata": {},
     "output_type": "execute_result"
    }
   ],
   "source": [
    "from nltk.translate.nist_score import sentence_nist\n",
    "\n",
    "predictions = ['a', 'a', 'a', 'b', 'a', 'b', 'b', 'b', 'b']\n",
    "references = [['a', 'a', 'a', 'b', 'a', 'b', 'b', 'b', 'b']]\n",
    "\n",
    "nist_score = sentence_nist(references, predictions)\n",
    "nist_score"
   ]
  },
  {
   "attachments": {},
   "cell_type": "markdown",
   "metadata": {},
   "source": [
    "# BLEU"
   ]
  },
  {
   "cell_type": "code",
   "execution_count": 5,
   "metadata": {},
   "outputs": [],
   "source": [
    "import evaluate\n",
    "bertscore = evaluate.load(\"bertscore\")"
   ]
  },
  {
   "cell_type": "code",
   "execution_count": null,
   "metadata": {},
   "outputs": [],
   "source": [
    "from evaluate import load\n",
    "bertscore = load(\"bertscore\")\n",
    "predictions = [\"hello there\", \"general kenobi\"]\n",
    "references = [\"hello there\", \"general kenobi\"]\n",
    "results = bertscore.compute(predictions=predictions, references=references, lang=\"en\")\n",
    "results"
   ]
  }
 ],
 "metadata": {
  "kernelspec": {
   "display_name": "venv",
   "language": "python",
   "name": "python3"
  },
  "language_info": {
   "codemirror_mode": {
    "name": "ipython",
    "version": 3
   },
   "file_extension": ".py",
   "mimetype": "text/x-python",
   "name": "python",
   "nbconvert_exporter": "python",
   "pygments_lexer": "ipython3",
   "version": "3.9.7"
  },
  "orig_nbformat": 4
 },
 "nbformat": 4,
 "nbformat_minor": 2
}
