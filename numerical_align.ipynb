{
 "cells": [
  {
   "cell_type": "code",
   "execution_count": 1,
   "metadata": {},
   "outputs": [],
   "source": [
    "import spacy\n",
    "from pprint import pprint\n",
    "from tqdm import tqdm\n",
    "from simalign import SentenceAligner"
   ]
  },
  {
   "cell_type": "code",
   "execution_count": 2,
   "metadata": {},
   "outputs": [
    {
     "name": "stderr",
     "output_type": "stream",
     "text": [
      "Some weights of the model checkpoint at bert-base-multilingual-cased were not used when initializing BertModel: ['cls.predictions.transform.dense.weight', 'cls.predictions.transform.dense.bias', 'cls.predictions.decoder.weight', 'cls.predictions.transform.LayerNorm.bias', 'cls.predictions.bias', 'cls.seq_relationship.weight', 'cls.predictions.transform.LayerNorm.weight', 'cls.seq_relationship.bias']\n",
      "- This IS expected if you are initializing BertModel from the checkpoint of a model trained on another task or with another architecture (e.g. initializing a BertForSequenceClassification model from a BertForPreTraining model).\n",
      "- This IS NOT expected if you are initializing BertModel from the checkpoint of a model that you expect to be exactly identical (initializing a BertForSequenceClassification model from a BertForSequenceClassification model).\n",
      "2023-01-23 01:32:57,457 - simalign.simalign - INFO - Initialized the EmbeddingLoader with model: bert-base-multilingual-cased\n"
     ]
    }
   ],
   "source": [
    "myaligner = SentenceAligner(model=\"bert\", token_type=\"bpe\", matching_methods=\"mai\")"
   ]
  },
  {
   "cell_type": "code",
   "execution_count": 3,
   "metadata": {},
   "outputs": [],
   "source": [
    "en_nlp_lg = spacy.load(\"en_core_web_lg\")\n",
    "ru_nlp_lg = spacy.load(\"ru_core_news_lg\")\n",
    "ru_tokenizer = ru_nlp_lg.tokenizer\n",
    "en_tokenizer = en_nlp_lg.tokenizer"
   ]
  },
  {
   "cell_type": "code",
   "execution_count": 4,
   "metadata": {},
   "outputs": [],
   "source": [
    "def spacy_format_to_list_of_str(spacy_tokens):\n",
    "    normal_tokens = []\n",
    "    for sentence in spacy_tokens:\n",
    "        list_sentence = []\n",
    "        for token in sentence:\n",
    "            list_sentence.append(str(token))\n",
    "        normal_tokens.append(list_sentence)\n",
    "    return normal_tokens"
   ]
  },
  {
   "attachments": {},
   "cell_type": "markdown",
   "metadata": {},
   "source": [
    "# Karenina"
   ]
  },
  {
   "cell_type": "code",
   "execution_count": 5,
   "metadata": {},
   "outputs": [
    {
     "data": {
      "text/plain": [
       "['Анна Каренина',\n",
       " 'Толстой Лев Николаевич',\n",
       " 'Мне отмщение, и аз воздам',\n",
       " 'ЧАСТЬ ПЕРВАЯ',\n",
       " 'Все счастливые семьи похожи друг на друга, каждая несчастливая семья несчастлива по-своему.']"
      ]
     },
     "execution_count": 5,
     "metadata": {},
     "output_type": "execute_result"
    }
   ],
   "source": [
    "with open(\"./corpora/karenina/Books_ru.txt\", \"rt\", encoding=\"utf-8\") as file:\n",
    "    ru_corpus_raw = [line.rstrip() for line in file]\n",
    "\n",
    "ru_corpus_raw[:5]"
   ]
  },
  {
   "cell_type": "code",
   "execution_count": 6,
   "metadata": {},
   "outputs": [
    {
     "data": {
      "text/plain": [
       "['Anna Karenina',\n",
       " 'Leo Tolstoy',\n",
       " 'Vengeance is mine; I will repay.',\n",
       " 'VOLUME ONE PART I',\n",
       " 'ALL HAPPY FAMILIES resemble one another, but each unhappy family is unhappy in its own way.']"
      ]
     },
     "execution_count": 6,
     "metadata": {},
     "output_type": "execute_result"
    }
   ],
   "source": [
    "with open(\"./corpora/karenina/Books_en.txt\", \"rt\", encoding=\"utf-8\") as file:\n",
    "    en_corpus_raw = [line.rstrip() for line in file]\n",
    "\n",
    "en_corpus_raw[:5]"
   ]
  },
  {
   "cell_type": "code",
   "execution_count": 7,
   "metadata": {},
   "outputs": [],
   "source": [
    "ru_tokens = [ru_tokenizer(sentence) for sentence in ru_corpus_raw]\n",
    "en_tokens = [en_tokenizer(sentence) for sentence in en_corpus_raw]"
   ]
  },
  {
   "cell_type": "code",
   "execution_count": 8,
   "metadata": {},
   "outputs": [],
   "source": [
    "ru_tokens = spacy_format_to_list_of_str(ru_tokens)\n",
    "en_tokens = spacy_format_to_list_of_str(en_tokens)"
   ]
  },
  {
   "cell_type": "code",
   "execution_count": 9,
   "metadata": {},
   "outputs": [
    {
     "name": "stderr",
     "output_type": "stream",
     "text": [
      "100%|██████████| 17255/17255 [4:52:04<00:00,  1.02s/it]   \n"
     ]
    }
   ],
   "source": [
    "mwmf = \"\"\n",
    "itermax = \"\"\n",
    "inter = \"\"\n",
    "\n",
    "for i in tqdm(range(len(ru_tokens))):\n",
    "    src, trg = (ru_tokens[i], en_tokens[i])\n",
    "    alignments = myaligner.get_word_aligns(src, trg)\n",
    "    mwmf += \" \".join([f\"{x}-{y}\" for x, y in alignments[\"mwmf\"]])\n",
    "    itermax += \" \".join([f\"{x}-{y}\" for x, y in alignments[\"itermax\"]])\n",
    "    inter += \" \".join([f\"{x}-{y}\" for x, y in alignments[\"inter\"]])\n",
    "    mwmf += \"\\n\"\n",
    "    itermax += \"\\n\"\n",
    "    inter += \"\\n\""
   ]
  },
  {
   "cell_type": "code",
   "execution_count": 10,
   "metadata": {},
   "outputs": [],
   "source": [
    "with open('corpora/karenina/mwmf.txt', 'wt') as f:\n",
    "    f.write(mwmf)"
   ]
  },
  {
   "cell_type": "code",
   "execution_count": 11,
   "metadata": {},
   "outputs": [],
   "source": [
    "with open('corpora/karenina/itermax.txt', 'wt') as f:\n",
    "    f.write(itermax)"
   ]
  },
  {
   "cell_type": "code",
   "execution_count": 12,
   "metadata": {},
   "outputs": [],
   "source": [
    "with open('corpora/karenina/inter.txt', 'wt') as f:\n",
    "    f.write(inter)"
   ]
  },
  {
   "attachments": {},
   "cell_type": "markdown",
   "metadata": {},
   "source": [
    "# Woland"
   ]
  },
  {
   "cell_type": "code",
   "execution_count": 13,
   "metadata": {},
   "outputs": [],
   "source": [
    "ru_tokens = [ru_tokenizer(sentence) for sentence in ru_corpus_raw]\n",
    "en_tokens = [en_tokenizer(sentence) for sentence in en_corpus_raw]"
   ]
  },
  {
   "cell_type": "code",
   "execution_count": 14,
   "metadata": {},
   "outputs": [],
   "source": [
    "ru_tokens = spacy_format_to_list_of_str(ru_tokens)\n",
    "en_tokens = spacy_format_to_list_of_str(en_tokens)"
   ]
  },
  {
   "cell_type": "code",
   "execution_count": 15,
   "metadata": {},
   "outputs": [
    {
     "name": "stderr",
     "output_type": "stream",
     "text": [
      "100%|██████████| 17255/17255 [4:43:58<00:00,  1.01it/s]   \n"
     ]
    }
   ],
   "source": [
    "mwmf = \"\"\n",
    "itermax = \"\"\n",
    "inter = \"\"\n",
    "\n",
    "for i in tqdm(range(len(ru_tokens))):\n",
    "    src, trg = (ru_tokens[i], en_tokens[i])\n",
    "    alignments = myaligner.get_word_aligns(src, trg)\n",
    "    mwmf += \" \".join([f\"{x}-{y}\" for x, y in alignments[\"mwmf\"]])\n",
    "    itermax += \" \".join([f\"{x}-{y}\" for x, y in alignments[\"itermax\"]])\n",
    "    inter += \" \".join([f\"{x}-{y}\" for x, y in alignments[\"inter\"]])\n",
    "    mwmf += \"\\n\"\n",
    "    itermax += \"\\n\"\n",
    "    inter += \"\\n\""
   ]
  },
  {
   "cell_type": "code",
   "execution_count": 16,
   "metadata": {},
   "outputs": [],
   "source": [
    "with open('corpora/woland/mwmf.txt', 'wt') as f:\n",
    "    f.write(mwmf)"
   ]
  },
  {
   "cell_type": "code",
   "execution_count": 17,
   "metadata": {},
   "outputs": [],
   "source": [
    "with open('corpora/woland/itermax.txt', 'wt') as f:\n",
    "    f.write(itermax)"
   ]
  },
  {
   "cell_type": "code",
   "execution_count": 18,
   "metadata": {},
   "outputs": [],
   "source": [
    "with open('corpora/woland/inter.txt', 'wt') as f:\n",
    "    f.write(inter)"
   ]
  }
 ],
 "metadata": {
  "kernelspec": {
   "display_name": "Python 3 (ipykernel)",
   "language": "python",
   "name": "python3"
  },
  "language_info": {
   "codemirror_mode": {
    "name": "ipython",
    "version": 3
   },
   "file_extension": ".py",
   "mimetype": "text/x-python",
   "name": "python",
   "nbconvert_exporter": "python",
   "pygments_lexer": "ipython3",
   "version": "3.10.6"
  },
  "orig_nbformat": 4,
  "vscode": {
   "interpreter": {
    "hash": "52708d13624e56a584b7d58ee6170854b4c12ba8d86f72f2e2c25abac37ab8f7"
   }
  }
 },
 "nbformat": 4,
 "nbformat_minor": 2
}
