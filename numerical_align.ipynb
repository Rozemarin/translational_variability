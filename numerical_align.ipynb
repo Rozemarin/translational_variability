{
 "cells": [
  {
   "cell_type": "code",
   "execution_count": 2,
   "metadata": {},
   "outputs": [],
   "source": [
    "# ! pip install spacy\n",
    "# ! python -m spacy download en_core_web_lg\n",
    "# ! python -m spacy download en_core_web_trf\n",
    "# ! python -m spacy download ru_core_news_lg\n",
    "# ! pip install matplotlib\n",
    "# ! pip install numpy\n",
    "# ! pip install simalign"
   ]
  },
  {
   "cell_type": "code",
   "execution_count": 2,
   "metadata": {
    "ExecuteTime": {
     "start_time": "2023-04-05T12:57:47.853155Z",
     "end_time": "2023-04-05T12:57:51.614113Z"
    }
   },
   "outputs": [],
   "source": [
    "import spacy\n",
    "from pprint import pprint\n",
    "from tqdm import tqdm\n",
    "from simalign import SentenceAligner"
   ]
  },
  {
   "cell_type": "code",
   "execution_count": null,
   "metadata": {},
   "outputs": [
    {
     "name": "stderr",
     "output_type": "stream",
     "text": [
      "Some weights of the model checkpoint at bert-base-multilingual-cased were not used when initializing BertModel: ['cls.predictions.transform.LayerNorm.bias', 'cls.seq_relationship.weight', 'cls.predictions.bias', 'cls.predictions.transform.dense.bias', 'cls.seq_relationship.bias', 'cls.predictions.transform.dense.weight', 'cls.predictions.transform.LayerNorm.weight', 'cls.predictions.decoder.weight']\n",
      "- This IS expected if you are initializing BertModel from the checkpoint of a model trained on another task or with another architecture (e.g. initializing a BertForSequenceClassification model from a BertForPreTraining model).\n",
      "- This IS NOT expected if you are initializing BertModel from the checkpoint of a model that you expect to be exactly identical (initializing a BertForSequenceClassification model from a BertForSequenceClassification model).\n",
      "2023-03-29 12:13:06,063 - simalign.simalign - INFO - Initialized the EmbeddingLoader with model: bert-base-multilingual-cased\n"
     ]
    }
   ],
   "source": [
    "myaligner = SentenceAligner(model=\"bert\", token_type=\"bpe\", matching_methods=\"mai\")"
   ]
  },
  {
   "cell_type": "code",
   "execution_count": 8,
   "metadata": {},
   "outputs": [],
   "source": [
    "en_nlp_lg = spacy.load(\"en_core_web_lg\")\n",
    "ru_nlp_lg = spacy.load(\"ru_core_news_lg\")\n",
    "ru_tokenizer = ru_nlp_lg.tokenizer\n",
    "en_tokenizer = en_nlp_lg.tokenizer"
   ]
  },
  {
   "cell_type": "code",
   "execution_count": 10,
   "metadata": {},
   "outputs": [],
   "source": [
    "def spacy_format_to_list_of_str(spacy_tokens):\n",
    "    normal_tokens = []\n",
    "    for sentence in spacy_tokens:\n",
    "        list_sentence = []\n",
    "        for token in sentence:\n",
    "            list_sentence.append(str(token))\n",
    "        normal_tokens.append(list_sentence)\n",
    "    return normal_tokens"
   ]
  },
  {
   "cell_type": "code",
   "execution_count": 15,
   "metadata": {},
   "outputs": [],
   "source": [
    "def spacy_to_list_of_lemmas(spacy_tokens):\n",
    "    normal_lemmas = []\n",
    "    for sentence in spacy_tokens:\n",
    "        list_sentence = []\n",
    "        for token in sentence:\n",
    "            list_sentence.append(str(token.lemma_))\n",
    "        normal_lemmas.append(list_sentence)\n",
    "    return normal_lemmas"
   ]
  },
  {
   "attachments": {},
   "cell_type": "markdown",
   "metadata": {},
   "source": [
    "# Karenina"
   ]
  },
  {
   "cell_type": "code",
   "execution_count": 6,
   "metadata": {
    "ExecuteTime": {
     "start_time": "2023-04-05T12:58:51.570151Z",
     "end_time": "2023-04-05T12:58:51.624740Z"
    }
   },
   "outputs": [
    {
     "data": {
      "text/plain": "['Анна Каренина',\n 'Толстой Лев Николаевич',\n 'Мне отмщение, и аз воздам',\n 'ЧАСТЬ ПЕРВАЯ',\n 'Все счастливые семьи похожи друг на друга, каждая несчастливая семья несчастлива по-своему.']"
     },
     "execution_count": 6,
     "metadata": {},
     "output_type": "execute_result"
    }
   ],
   "source": [
    "with open(\"./corpora/karenina/originals/Books_ru.txt\", \"rt\", encoding=\"utf-8\") as file:\n",
    "    ru_corpus_raw = [line.rstrip() for line in file]\n",
    "\n",
    "ru_corpus_raw[:5]"
   ]
  },
  {
   "cell_type": "code",
   "execution_count": 8,
   "metadata": {
    "ExecuteTime": {
     "start_time": "2023-04-05T12:59:59.699682Z",
     "end_time": "2023-04-05T12:59:59.775463Z"
    }
   },
   "outputs": [
    {
     "data": {
      "text/plain": "['Anna Karenina',\n 'Leo Tolstoy',\n 'Vengeance is mine; I will repay.',\n 'VOLUME ONE PART I',\n 'ALL HAPPY FAMILIES resemble one another, but each unhappy family is unhappy in its own way.']"
     },
     "execution_count": 8,
     "metadata": {},
     "output_type": "execute_result"
    }
   ],
   "source": [
    "with open(\"./corpora/karenina/originals/Books_en.txt\", \"rt\", encoding=\"utf-8\") as file:\n",
    "    en_corpus_raw = [line.rstrip() for line in file]\n",
    "\n",
    "en_corpus_raw[:5]"
   ]
  },
  {
   "cell_type": "code",
   "execution_count": 13,
   "metadata": {},
   "outputs": [],
   "source": [
    "ru_tokens = [ru_tokenizer(sentence) for sentence in ru_corpus_raw]\n",
    "en_tokens = [en_tokenizer(sentence) for sentence in en_corpus_raw]"
   ]
  },
  {
   "cell_type": "code",
   "execution_count": 14,
   "metadata": {},
   "outputs": [],
   "source": [
    "ru_tokens = spacy_format_to_list_of_str(ru_tokens)\n",
    "en_tokens = spacy_format_to_list_of_str(en_tokens)"
   ]
  },
  {
   "cell_type": "code",
   "execution_count": 18,
   "metadata": {},
   "outputs": [
    {
     "name": "stderr",
     "output_type": "stream",
     "text": [
      "100%|██████████| 17255/17255 [00:00<00:00, 189472.75it/s]\n"
     ]
    }
   ],
   "source": [
    "ru_orig_tokenized = \"\"\n",
    "en_orig_tokenized = \"\"\n",
    "\n",
    "for i in tqdm(range(len(ru_tokens))):\n",
    "    ru_orig_tokenized += \" \".join(ru_tokens[i])\n",
    "    ru_orig_tokenized += \"\\n\"\n",
    "    en_orig_tokenized += \" \".join(en_tokens[i])\n",
    "    en_orig_tokenized += \"\\n\""
   ]
  },
  {
   "cell_type": "code",
   "execution_count": 19,
   "metadata": {},
   "outputs": [],
   "source": [
    "with open('corpora/karenina/ru_orig_tokenized.txt', 'wt') as f:\n",
    "    f.write(ru_orig_tokenized)"
   ]
  },
  {
   "cell_type": "code",
   "execution_count": 20,
   "metadata": {},
   "outputs": [],
   "source": [
    "with open('corpora/karenina/en_orig_tokenized.txt', 'wt') as f:\n",
    "    f.write(en_orig_tokenized)"
   ]
  },
  {
   "cell_type": "code",
   "execution_count": null,
   "metadata": {},
   "outputs": [],
   "source": [
    "mwmf = \"\"\n",
    "itermax = \"\"\n",
    "inter = \"\"\n",
    "\n",
    "for i in tqdm(range(len(ru_tokens))):\n",
    "    src, trg = (ru_tokens[i], en_tokens[i])\n",
    "    alignments = myaligner.get_word_aligns(src, trg)\n",
    "    mwmf += \" \".join([f\"{x}-{y}\" for x, y in alignments[\"mwmf\"]])\n",
    "    itermax += \" \".join([f\"{x}-{y}\" for x, y in alignments[\"itermax\"]])\n",
    "    inter += \" \".join([f\"{x}-{y}\" for x, y in alignments[\"inter\"]])\n",
    "    mwmf += \"\\n\"\n",
    "    itermax += \"\\n\"\n",
    "    inter += \"\\n\""
   ]
  },
  {
   "cell_type": "code",
   "execution_count": 10,
   "metadata": {},
   "outputs": [],
   "source": [
    "with open('corpora/karenina/mwmf.txt', 'wt') as f:\n",
    "    f.write(mwmf)"
   ]
  },
  {
   "cell_type": "code",
   "execution_count": 11,
   "metadata": {},
   "outputs": [],
   "source": [
    "with open('corpora/karenina/itermax.txt', 'wt') as f:\n",
    "    f.write(itermax)"
   ]
  },
  {
   "cell_type": "code",
   "execution_count": 12,
   "metadata": {},
   "outputs": [],
   "source": [
    "with open('corpora/karenina/inter.txt', 'wt') as f:\n",
    "    f.write(inter)"
   ]
  },
  {
   "cell_type": "code",
   "execution_count": 3,
   "metadata": {
    "ExecuteTime": {
     "start_time": "2023-04-05T12:58:21.696641Z",
     "end_time": "2023-04-05T12:58:27.232207Z"
    }
   },
   "outputs": [],
   "source": [
    "en_nlp_lg = spacy.load(\"en_core_web_lg\")\n",
    "ru_nlp_lg = spacy.load(\"ru_core_news_lg\")"
   ]
  },
  {
   "cell_type": "code",
   "execution_count": 9,
   "metadata": {
    "ExecuteTime": {
     "start_time": "2023-04-05T13:00:24.326638Z",
     "end_time": "2023-04-05T13:03:16.110300Z"
    }
   },
   "outputs": [],
   "source": [
    "ru_nlp_docs = [ru_nlp_lg(sentence) for sentence in ru_corpus_raw]"
   ]
  },
  {
   "cell_type": "code",
   "execution_count": 10,
   "metadata": {
    "ExecuteTime": {
     "start_time": "2023-04-05T13:03:16.110149Z",
     "end_time": "2023-04-05T13:05:15.368039Z"
    }
   },
   "outputs": [],
   "source": [
    "en_nlp_docs = [en_nlp_lg(sentence) for sentence in en_corpus_raw]"
   ]
  },
  {
   "cell_type": "code",
   "execution_count": 36,
   "outputs": [],
   "source": [
    "from spacy.tokens import DocBin\n",
    "doc_bin = DocBin(store_user_data=True)\n",
    "texts = ru_corpus_raw\n",
    "nlp = spacy.load(\"ru_core_news_lg\")\n",
    "for doc in nlp.pipe(texts):\n",
    "    doc_bin.add(doc)\n",
    "bytes_data = doc_bin.to_bytes()"
   ],
   "metadata": {
    "collapsed": false,
    "ExecuteTime": {
     "start_time": "2023-04-05T13:22:32.984013Z",
     "end_time": "2023-04-05T13:24:11.626777Z"
    }
   }
  },
  {
   "cell_type": "code",
   "execution_count": 37,
   "outputs": [],
   "source": [
    "with open(\"./corpora/karenina/ru_spacy_lg_dump.bin\", \"wb\") as file:\n",
    "    file.write(bytes_data)"
   ],
   "metadata": {
    "collapsed": false,
    "ExecuteTime": {
     "start_time": "2023-04-05T13:25:16.348023Z",
     "end_time": "2023-04-05T13:25:16.394049Z"
    }
   }
  },
  {
   "cell_type": "code",
   "execution_count": 38,
   "outputs": [],
   "source": [
    "with open(\"./corpora/karenina/ru_spacy_lg_dump.bin\", \"rb\") as file:\n",
    "    readed_data = file.read()"
   ],
   "metadata": {
    "collapsed": false,
    "ExecuteTime": {
     "start_time": "2023-04-05T13:25:29.549335Z",
     "end_time": "2023-04-05T13:25:29.604879Z"
    }
   }
  },
  {
   "cell_type": "code",
   "execution_count": 39,
   "outputs": [],
   "source": [
    "# Deserialize later, e.g. in a new process\n",
    "nlp = spacy.blank(\"ru\")\n",
    "doc_bin = DocBin().from_bytes(readed_data)\n",
    "docs = list(doc_bin.get_docs(nlp.vocab))"
   ],
   "metadata": {
    "collapsed": false,
    "ExecuteTime": {
     "start_time": "2023-04-05T13:25:34.234499Z",
     "end_time": "2023-04-05T13:25:43.958626Z"
    }
   }
  },
  {
   "cell_type": "code",
   "execution_count": 40,
   "outputs": [
    {
     "data": {
      "text/plain": "Все смешалось в доме Облонских."
     },
     "execution_count": 40,
     "metadata": {},
     "output_type": "execute_result"
    }
   ],
   "source": [
    "docs[5]"
   ],
   "metadata": {
    "collapsed": false,
    "ExecuteTime": {
     "start_time": "2023-04-05T13:25:46.015972Z",
     "end_time": "2023-04-05T13:25:46.072694Z"
    }
   }
  },
  {
   "cell_type": "code",
   "execution_count": 8,
   "metadata": {},
   "outputs": [
    {
     "data": {
      "text/plain": [
       "'день'"
      ]
     },
     "execution_count": 8,
     "metadata": {},
     "output_type": "execute_result"
    }
   ],
   "source": [
    "ru_nlp_docs[10][2].lemma_"
   ]
  },
  {
   "cell_type": "code",
   "execution_count": 18,
   "metadata": {},
   "outputs": [
    {
     "name": "stderr",
     "output_type": "stream",
     "text": [
      "100%|██████████| 17255/17255 [00:00<00:00, 222723.66it/s]\n"
     ]
    }
   ],
   "source": [
    "ru_lemmas = spacy_to_list_of_lemmas(ru_nlp_docs)\n",
    "en_lemmas = spacy_to_list_of_lemmas(en_nlp_docs)\n",
    "\n",
    "ru_orig_lemmas = \"\"\n",
    "en_orig_lemmas = \"\"\n",
    "\n",
    "for i in tqdm(range(len(ru_lemmas))):\n",
    "    ru_orig_lemmas += \" \".join(ru_lemmas[i])\n",
    "    ru_orig_lemmas += \"\\n\"\n",
    "    en_orig_lemmas += \" \".join(en_lemmas[i])\n",
    "    en_orig_lemmas += \"\\n\""
   ]
  },
  {
   "cell_type": "code",
   "execution_count": 19,
   "metadata": {},
   "outputs": [],
   "source": [
    "with open('corpora/karenina/ru_orig_lemmas.txt', 'wt') as f:\n",
    "    f.write(ru_orig_lemmas)\n",
    "with open('corpora/karenina/en_orig_lemmas.txt', 'wt') as f:\n",
    "    f.write(en_orig_lemmas)"
   ]
  },
  {
   "attachments": {},
   "cell_type": "markdown",
   "metadata": {},
   "source": [
    "# Woland"
   ]
  },
  {
   "cell_type": "code",
   "execution_count": 21,
   "metadata": {},
   "outputs": [],
   "source": [
    "ru_tokens = [ru_tokenizer(sentence) for sentence in ru_corpus_raw]\n",
    "en_tokens = [en_tokenizer(sentence) for sentence in en_corpus_raw]"
   ]
  },
  {
   "cell_type": "code",
   "execution_count": 22,
   "metadata": {},
   "outputs": [],
   "source": [
    "ru_tokens = spacy_format_to_list_of_str(ru_tokens)\n",
    "en_tokens = spacy_format_to_list_of_str(en_tokens)"
   ]
  },
  {
   "cell_type": "code",
   "execution_count": 23,
   "metadata": {},
   "outputs": [
    {
     "name": "stderr",
     "output_type": "stream",
     "text": [
      "100%|██████████| 17255/17255 [00:00<00:00, 211888.73it/s]\n"
     ]
    }
   ],
   "source": [
    "ru_orig_tokenized = \"\"\n",
    "en_orig_tokenized = \"\"\n",
    "\n",
    "for i in tqdm(range(len(ru_tokens))):\n",
    "    ru_orig_tokenized += \" \".join(ru_tokens[i])\n",
    "    ru_orig_tokenized += \"\\n\"\n",
    "    en_orig_tokenized += \" \".join(en_tokens[i])\n",
    "    en_orig_tokenized += \"\\n\""
   ]
  },
  {
   "cell_type": "code",
   "execution_count": 24,
   "metadata": {},
   "outputs": [],
   "source": [
    "with open('corpora/woland/ru_orig_tokenized.txt', 'wt') as f:\n",
    "    f.write(ru_orig_tokenized)"
   ]
  },
  {
   "cell_type": "code",
   "execution_count": 25,
   "metadata": {},
   "outputs": [],
   "source": [
    "with open('corpora/woland/en_orig_tokenized.txt', 'wt') as f:\n",
    "    f.write(en_orig_tokenized)"
   ]
  },
  {
   "cell_type": "code",
   "execution_count": 15,
   "metadata": {},
   "outputs": [
    {
     "name": "stderr",
     "output_type": "stream",
     "text": [
      "100%|██████████| 17255/17255 [4:43:58<00:00,  1.01it/s]   \n"
     ]
    }
   ],
   "source": [
    "mwmf = \"\"\n",
    "itermax = \"\"\n",
    "inter = \"\"\n",
    "\n",
    "for i in tqdm(range(len(ru_tokens))):\n",
    "    src, trg = (ru_tokens[i], en_tokens[i])\n",
    "    alignments = myaligner.get_word_aligns(src, trg)\n",
    "    mwmf += \" \".join([f\"{x}-{y}\" for x, y in alignments[\"mwmf\"]])\n",
    "    itermax += \" \".join([f\"{x}-{y}\" for x, y in alignments[\"itermax\"]])\n",
    "    inter += \" \".join([f\"{x}-{y}\" for x, y in alignments[\"inter\"]])\n",
    "    mwmf += \"\\n\"\n",
    "    itermax += \"\\n\"\n",
    "    inter += \"\\n\""
   ]
  },
  {
   "cell_type": "code",
   "execution_count": 16,
   "metadata": {},
   "outputs": [],
   "source": [
    "with open('corpora/woland/mwmf.txt', 'wt') as f:\n",
    "    f.write(mwmf)"
   ]
  },
  {
   "cell_type": "code",
   "execution_count": 17,
   "metadata": {},
   "outputs": [],
   "source": [
    "with open('corpora/woland/itermax.txt', 'wt') as f:\n",
    "    f.write(itermax)"
   ]
  },
  {
   "cell_type": "code",
   "execution_count": 18,
   "metadata": {},
   "outputs": [],
   "source": [
    "with open('corpora/woland/inter.txt', 'wt') as f:\n",
    "    f.write(inter)"
   ]
  }
 ],
 "metadata": {
  "kernelspec": {
   "display_name": "Python 3",
   "language": "python",
   "name": "python3"
  },
  "language_info": {
   "codemirror_mode": {
    "name": "ipython",
    "version": 3
   },
   "file_extension": ".py",
   "mimetype": "text/x-python",
   "name": "python",
   "nbconvert_exporter": "python",
   "pygments_lexer": "ipython3",
   "version": "3.8.10"
  },
  "orig_nbformat": 4,
  "vscode": {
   "interpreter": {
    "hash": "916dbcbb3f70747c44a77c7bcd40155683ae19c65e1c03b4aa3499c5328201f1"
   }
  }
 },
 "nbformat": 4,
 "nbformat_minor": 2
}
